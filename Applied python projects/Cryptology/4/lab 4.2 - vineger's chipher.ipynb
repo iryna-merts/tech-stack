{
 "cells": [
  {
   "cell_type": "code",
   "execution_count": 2,
   "metadata": {},
   "outputs": [
    {
     "data": {
      "application/vnd.jupyter.widget-view+json": {
       "model_id": "4f27b425fd6242fe97ef3cd9a659e16e",
       "version_major": 2,
       "version_minor": 0
      },
      "text/plain": [
       "Dropdown(description='Alphabet: ', options=('Eng', 'Укр'), value='Eng')"
      ]
     },
     "metadata": {},
     "output_type": "display_data"
    },
    {
     "data": {
      "application/vnd.jupyter.widget-view+json": {
       "model_id": "90ad1b6f8b8f448f80016a3e8f110a3f",
       "version_major": 2,
       "version_minor": 0
      },
      "text/plain": [
       "Button(description='Encrypt', style=ButtonStyle())"
      ]
     },
     "metadata": {},
     "output_type": "display_data"
    },
    {
     "data": {
      "application/vnd.jupyter.widget-view+json": {
       "model_id": "2489118456704948b60721c6e1157144",
       "version_major": 2,
       "version_minor": 0
      },
      "text/plain": [
       "Button(description='Decrypt', style=ButtonStyle())"
      ]
     },
     "metadata": {},
     "output_type": "display_data"
    },
    {
     "name": "stdout",
     "output_type": "stream",
     "text": [
      "ліс це завжди добре\n",
      "гьфакхаитсіеяаепудх\n",
      "совасовасовасовасова\n",
      "Decrypted: ліс це завжди добре\n"
     ]
    }
   ],
   "source": [
    "import ipywidgets as widgets\n",
    "from math import ceil\n",
    "\n",
    "f  = open('text.txt', 'r')\n",
    "first_text = f.read()\n",
    "\n",
    "fk  = open('key.txt', 'r')\n",
    "keyword = fk.read()\n",
    "\n",
    "encrypt_btn = widgets.Button( description = 'Encrypt')\n",
    "decrypt_btn = widgets.Button( description = 'Decrypt')\n",
    "lang_ch = widgets.Dropdown(\n",
    "    options = ['Eng','Укр'],\n",
    "    value = 'Eng',\n",
    "    description = 'Alphabet: ',\n",
    ") \n",
    "\n",
    "ukr_alph = \"абвгґдеєжзиіїйклмнопрстуфхцчшщьюя \" # 33 + пробіл\n",
    "eng_alph = \"abcdefghijklmnopqrstuvwxyz \" # 26 + пробіл\n",
    "alph = \"\"   \n",
    "def Lang_ch(event):\n",
    "    global alph\n",
    "    lang = \"\"\n",
    "    if (lang_ch.value=='Eng'):\n",
    "        lang = eng_alph\n",
    "    else:\n",
    "        lang = ukr_alph\n",
    "    alph = lang\n",
    "    \n",
    "def Key_validation(k):\n",
    "    if(k < 0 and k > len(alph)):\n",
    "        return 0\n",
    "    else:\n",
    "        return 1\n",
    "    \n",
    "k=0   \n",
    "keyw_value = \"\"\n",
    "res = \"\"\n",
    "\n",
    "def Equation_encrypt(event):\n",
    "    global res\n",
    "    global k\n",
    "    global alph\n",
    "    encrypted = \"\"\n",
    "    len_alph=len(alph)\n",
    "    keyw_value = keyword\n",
    "    t=first_text\n",
    "    print(t)\n",
    "    keyw=keyw_value*(ceil(len(t)/len(keyw_value)))\n",
    "    for p in t:\n",
    "        k=alph.find(keyw[t.find(p)])+1\n",
    "        if (Key_validation(k) == 1):\n",
    "            encrypted+=(alph[(alph.find(p)+k)%len_alph]) \n",
    "        else:\n",
    "            print(\"Key is invalid, please enter something else\")\n",
    "\n",
    "    res = encrypted\n",
    "    print(encrypted)   \n",
    "    \n",
    "def Equation_decrypt(event):\n",
    "    global res\n",
    "    global k\n",
    "    decrypted = \"\"\n",
    "    t=res\n",
    "    len_alph=len(alph)\n",
    "    keyw_value = keyword\n",
    "    keyw=keyw_value*(ceil(len(t)/len(keyw_value)))\n",
    "    print(keyw)\n",
    "    for p in t:\n",
    "        k=alph.find(keyw[t.find(p)])+1\n",
    "        decrypted+=(alph[(alph.find(p)+len_alph-(k%len_alph))%len_alph])\n",
    "    print(\"Decrypted: \" + decrypted)\n",
    "\n",
    "lang_ch.observe(Lang_ch)\n",
    "encrypt_btn.on_click(Equation_encrypt)\n",
    "decrypt_btn.on_click(Equation_decrypt)\n",
    "\n",
    "display(lang_ch, encrypt_btn, decrypt_btn)\n",
    "\n",
    "#ліс це завжди добре\n",
    "#сова\n",
    "\n",
    "#nice taste\n",
    "#moon"
   ]
  },
  {
   "cell_type": "code",
   "execution_count": null,
   "metadata": {},
   "outputs": [],
   "source": []
  }
 ],
 "metadata": {
  "kernelspec": {
   "display_name": "Python 3",
   "language": "python",
   "name": "python3"
  },
  "language_info": {
   "codemirror_mode": {
    "name": "ipython",
    "version": 3
   },
   "file_extension": ".py",
   "mimetype": "text/x-python",
   "name": "python",
   "nbconvert_exporter": "python",
   "pygments_lexer": "ipython3",
   "version": "3.7.4"
  }
 },
 "nbformat": 4,
 "nbformat_minor": 2
}
