{
 "cells": [
  {
   "cell_type": "code",
   "execution_count": 15,
   "metadata": {},
   "outputs": [
    {
     "data": {
      "text/plain": [
       "'агов люди'"
      ]
     },
     "metadata": {},
     "output_type": "display_data"
    },
    {
     "data": {
      "application/vnd.jupyter.widget-view+json": {
       "model_id": "a97fdac5f4f1496baeb2cfe8e8b6833f",
       "version_major": 2,
       "version_minor": 0
      },
      "text/plain": [
       "Dropdown(description='Alphabet: ', options=('Eng', 'Укр'), value='Eng')"
      ]
     },
     "metadata": {},
     "output_type": "display_data"
    },
    {
     "data": {
      "application/vnd.jupyter.widget-view+json": {
       "model_id": "d0f958c143bb496087554e6085e7d940",
       "version_major": 2,
       "version_minor": 0
      },
      "text/plain": [
       "Dropdown(description='Method: ', options=('Linear equation', 'Nonlinear equation', 'Keyword'), value='Linear e…"
      ]
     },
     "metadata": {},
     "output_type": "display_data"
    },
    {
     "data": {
      "application/vnd.jupyter.widget-view+json": {
       "model_id": "81c4a72d095d4cd6a3d085e3da035dc6",
       "version_major": 2,
       "version_minor": 0
      },
      "text/plain": [
       "IntText(value=0, description='A: ')"
      ]
     },
     "metadata": {},
     "output_type": "display_data"
    },
    {
     "data": {
      "application/vnd.jupyter.widget-view+json": {
       "model_id": "5280c67b879d4a1995ce9d3cf315efe0",
       "version_major": 2,
       "version_minor": 0
      },
      "text/plain": [
       "IntText(value=0, description='B: ')"
      ]
     },
     "metadata": {},
     "output_type": "display_data"
    },
    {
     "data": {
      "application/vnd.jupyter.widget-view+json": {
       "model_id": "f529e01290464ea49cb9d5e334863882",
       "version_major": 2,
       "version_minor": 0
      },
      "text/plain": [
       "IntText(value=0, description='C: ')"
      ]
     },
     "metadata": {},
     "output_type": "display_data"
    },
    {
     "data": {
      "application/vnd.jupyter.widget-view+json": {
       "model_id": "de33edd1a684413cad791d3881833313",
       "version_major": 2,
       "version_minor": 0
      },
      "text/plain": [
       "Text(value='', description='Keyword: ', placeholder='')"
      ]
     },
     "metadata": {},
     "output_type": "display_data"
    },
    {
     "data": {
      "application/vnd.jupyter.widget-view+json": {
       "model_id": "32b60f8d24794829993266de8b587c7d",
       "version_major": 2,
       "version_minor": 0
      },
      "text/plain": [
       "Button(description='Encrypt', style=ButtonStyle())"
      ]
     },
     "metadata": {},
     "output_type": "display_data"
    },
    {
     "data": {
      "application/vnd.jupyter.widget-view+json": {
       "model_id": "8b4ce809315a4e769051b54f50e3244f",
       "version_major": 2,
       "version_minor": 0
      },
      "text/plain": [
       "Button(description='Decrypt', style=ButtonStyle())"
      ]
     },
     "metadata": {},
     "output_type": "display_data"
    },
    {
     "name": "stdout",
     "output_type": "stream",
     "text": [
      "Encrypted: кпвтсду е\n",
      "Decrypted: агов люди\n"
     ]
    }
   ],
   "source": [
    "import ipywidgets as widgets\n",
    "from math import ceil\n",
    "\n",
    "f  = open('text.txt', 'r')\n",
    "first_text = f.read()\n",
    "\n",
    "#first_text = widgets.Text( placeholder = '', description = 'Text: ')\n",
    "a = widgets.IntText( placeholder = '', description = 'A: ')\n",
    "b = widgets.IntText( placeholder = '', description = 'B: ')\n",
    "c = widgets.IntText( placeholder = '', description = 'C: ')\n",
    "keyword = widgets.Text( placeholder = '', description = 'Keyword: ')\n",
    "encrypt_btn = widgets.Button( description = 'Encrypt')\n",
    "decrypt_btn = widgets.Button( description = 'Decrypt')\n",
    "lang_ch = widgets.Dropdown(\n",
    "    options = ['Eng','Укр'],\n",
    "    value = 'Eng',\n",
    "    description = 'Alphabet: ',\n",
    ") \n",
    "method_ch = widgets.Dropdown(\n",
    "    options = ['Linear equation','Nonlinear equation', 'Keyword'],\n",
    "    value = 'Linear equation',\n",
    "    description = 'Method: ',\n",
    ") \n",
    "\n",
    "ukr_alph = \"абвгґдеєжзиіїйклмнопрстуфхцчшщьюя \" # 33 + пробіл\n",
    "eng_alph = \"abcdefghijklmnopqrstuvwxyz \" # 26 + пробіл\n",
    "alph = \"\"   \n",
    "def Lang_ch(event):\n",
    "    global alph\n",
    "    lang = \"\"\n",
    "    if (lang_ch.value=='Eng'):\n",
    "        lang = eng_alph\n",
    "    else:\n",
    "        lang = ukr_alph\n",
    "    alph = lang\n",
    "    \n",
    "def Key_validation(k):\n",
    "    if(k < 0 and k > len(alph)):\n",
    "        return 0\n",
    "    else:\n",
    "        return 1\n",
    "    \n",
    "k=0   \n",
    "keyw_value = \"\"\n",
    "res = \"\"\n",
    "def Equation_encrypt(event):\n",
    "    \n",
    "        global res\n",
    "        global k\n",
    "        global alph\n",
    "        encrypted = \"\"\n",
    "        len_alph=len(alph)\n",
    "        keyw_value = keyword.value\n",
    "        t=first_text\n",
    "        keyw=keyw_value*(ceil(len(t)/len(keyw_value)))\n",
    "        for p in t:\n",
    "                if (method_ch.value=='Linear equation'):\n",
    "                    k=a.value*(t.find(p)+1) + b.value\n",
    "                    if (Key_validation(k) == 1):\n",
    "                        encrypted+=(alph[(alph.find(p)+k)%len_alph]) \n",
    "                    else:\n",
    "                        print(\"Key is invalid, please enter something else\") \n",
    "                if (method_ch.value=='Nonlinear equation'):\n",
    "                    k=a.value*a.value + (t.find(p)+1)*b.value + c.value\n",
    "                    if (Key_validation(k) == 1):\n",
    "                        encrypted+=(alph[(alph.find(p)+k)%len_alph]) \n",
    "                    else:\n",
    "                        print(\"Key is invalid, please enter something else\")\n",
    "                if (method_ch.value=='Keyword'):\n",
    "                    k=alph.find(keyw[t.find(p)])+1\n",
    "                    if (Key_validation(k) == 1):\n",
    "                        encrypted+=(alph[(alph.find(p)+k)%len_alph]) \n",
    "                    else:\n",
    "                        print(\"Key is invalid, please enter something else\")\n",
    "                \n",
    "        res = encrypted\n",
    "        print(\"Encrypted: \" + encrypted)   \n",
    "    \n",
    "decrypted = \"\"\n",
    "def Equation_decrypt(event):\n",
    "    global res\n",
    "    global k\n",
    "    global decrypted\n",
    "    t=res\n",
    "    len_alph=len(alph)\n",
    "    keyw_value = keyword.value\n",
    "    keyw=keyw_value*(ceil(len(t)/len(keyw_value)))\n",
    "    for p in t:\n",
    "        if (method_ch.value=='Linear equation'):\n",
    "            k=a.value*(t.find(p)+1) + b.value\n",
    "        if (method_ch.value=='Nonlinear equation'):\n",
    "            k=a.value*a.value + (t.find(p)+1)*b.value + c.value\n",
    "        if (method_ch.value=='Keyword'):\n",
    "             k=alph.find(keyw[t.find(p)])+1\n",
    "        decrypted+=(alph[(alph.find(p)+len_alph-(k%len_alph))%len_alph])\n",
    "    print(\"Decrypted: \" + decrypted)\n",
    "\n",
    "lang_ch.observe(Lang_ch)\n",
    "encrypt_btn.on_click(Equation_encrypt)\n",
    "decrypt_btn.on_click(Equation_decrypt)\n",
    "\n",
    "display(first_text, lang_ch, method_ch, a, b, c, keyword, encrypt_btn, decrypt_btn)\n",
    "\n",
    "#агов люди"
   ]
  },
  {
   "cell_type": "code",
   "execution_count": 16,
   "metadata": {},
   "outputs": [
    {
     "name": "stdout",
     "output_type": "stream",
     "text": [
      "a= 17.0 b= 19.0 c= 16\n"
     ]
    }
   ],
   "source": [
    "def find_keys(res, dec):\n",
    "    c=(alph.find(res[0])+1-alph.find(decrypted[0])+1) %len(alph)\n",
    "    ab=alph.find(res[1])+1-alph.find(decrypted[1])+1 - c\n",
    "    a=(((alph.find(res[2])+1-alph.find(decrypted[2])+1)-c-2*ab)/2) %len(alph)\n",
    "    b=((alph.find(res[1])+1-alph.find(decrypted[1])+1)-c-a) %len(alph)\n",
    "    print('a=', a, 'b=', b, 'c=', c)\n",
    "    \n",
    "find_keys(res, decrypted)"
   ]
  },
  {
   "cell_type": "code",
   "execution_count": 3,
   "metadata": {},
   "outputs": [
    {
     "data": {
      "application/vnd.jupyter.widget-view+json": {
       "model_id": "c2444c6cce864b50b22b7ee0adf80f4a",
       "version_major": 2,
       "version_minor": 0
      },
      "text/plain": [
       "interactive(children=(IntSlider(value=0, description='i', max=34), Button(description='Run Interact', style=Bu…"
      ]
     },
     "metadata": {},
     "output_type": "display_data"
    },
    {
     "data": {
      "text/plain": [
       "<function __main__.Brute_force(i)>"
      ]
     },
     "metadata": {},
     "output_type": "display_data"
    }
   ],
   "source": [
    "from ipywidgets import IntSlider\n",
    "\n",
    "def Brute_force(i):\n",
    "        hacked = \"\"\n",
    "        for symbol in res: #encrypted\n",
    "            if symbol in alph:\n",
    "                num = alph.find(symbol)\n",
    "                num = num - i\n",
    "                if num < 0:\n",
    "                    num = num + len(alph)\n",
    "                hacked += alph[num]\n",
    "            else:\n",
    "                hacked += symbol\n",
    "        print('Hacking key #%s: %s' % (i, hacked))\n",
    "        \n",
    "brute_force = widgets.interact_manual(Brute_force, i=IntSlider(min=0, max=len(alph), step=1))\n",
    "            \n",
    "display(brute_force)"
   ]
  },
  {
   "cell_type": "code",
   "execution_count": null,
   "metadata": {},
   "outputs": [],
   "source": []
  }
 ],
 "metadata": {
  "kernelspec": {
   "display_name": "Python 3",
   "language": "python",
   "name": "python3"
  },
  "language_info": {
   "codemirror_mode": {
    "name": "ipython",
    "version": 3
   },
   "file_extension": ".py",
   "mimetype": "text/x-python",
   "name": "python",
   "nbconvert_exporter": "python",
   "pygments_lexer": "ipython3",
   "version": "3.7.4"
  }
 },
 "nbformat": 4,
 "nbformat_minor": 2
}
