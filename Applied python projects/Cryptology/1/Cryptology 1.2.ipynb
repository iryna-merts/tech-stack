{
 "cells": [
  {
   "cell_type": "code",
   "execution_count": 1,
   "metadata": {},
   "outputs": [
    {
     "data": {
      "application/vnd.jupyter.widget-view+json": {
       "model_id": "61970983a56a47708aa8a604c5acfe0f",
       "version_major": 2,
       "version_minor": 0
      },
      "text/plain": [
       "Dropdown(description='Alphabet: ', options=('Eng', 'Укр'), value='Eng')"
      ]
     },
     "metadata": {},
     "output_type": "display_data"
    },
    {
     "data": {
      "application/vnd.jupyter.widget-view+json": {
       "model_id": "8e073afcbe8c445db2fb681b6440c56e",
       "version_major": 2,
       "version_minor": 0
      },
      "text/plain": [
       "Text(value='', description='Enter text: ', placeholder='')"
      ]
     },
     "metadata": {},
     "output_type": "display_data"
    },
    {
     "data": {
      "application/vnd.jupyter.widget-view+json": {
       "model_id": "8d97cd01694c4ddebbfe9ada1ce3a372",
       "version_major": 2,
       "version_minor": 0
      },
      "text/plain": [
       "IntText(value=0, description='Enter key: ')"
      ]
     },
     "metadata": {},
     "output_type": "display_data"
    },
    {
     "data": {
      "application/vnd.jupyter.widget-view+json": {
       "model_id": "e88e1bb769e44aa7b50defe3c399c48a",
       "version_major": 2,
       "version_minor": 0
      },
      "text/plain": [
       "Button(description='Encrypt', style=ButtonStyle())"
      ]
     },
     "metadata": {},
     "output_type": "display_data"
    },
    {
     "data": {
      "application/vnd.jupyter.widget-view+json": {
       "model_id": "0ffc2ddc60494c75b006ab5f5247bf58",
       "version_major": 2,
       "version_minor": 0
      },
      "text/plain": [
       "Button(description='Decrypt', style=ButtonStyle())"
      ]
     },
     "metadata": {},
     "output_type": "display_data"
    },
    {
     "name": "stdout",
     "output_type": "stream",
     "text": [
      "Encrypted: хптет\n",
      "Decrypted: слово\n"
     ]
    }
   ],
   "source": [
    "import ipywidgets as widgets\n",
    "\n",
    "first_text = widgets.Text( placeholder = '', description = 'Enter text: ')\n",
    "key = widgets.IntText( placeholder = '', description = 'Enter key: ')\n",
    "encrypt_btn = widgets.Button( description = 'Encrypt')\n",
    "decrypt_btn = widgets.Button( description = 'Decrypt')\n",
    "lang_ch = widgets.Dropdown(\n",
    "    options = ['Eng','Укр'],\n",
    "    value = 'Eng',\n",
    "    description = 'Alphabet: ',\n",
    ") \n",
    "\n",
    "ukr_alph = \"абвгґдеєжзиіїйклмнопрстуфхцчшщьюя \" # 33 + пробіл\n",
    "eng_alph = \"abcdefghijklmnopqrstuvwxyz \" # 26 + пробіл\n",
    "alph = \"\"        \n",
    "\n",
    "def Lang_ch(event):\n",
    "    global alph\n",
    "    lang = \"\"\n",
    "    if (lang_ch.value=='Eng'):\n",
    "        lang = eng_alph\n",
    "    else:\n",
    "        lang = ukr_alph\n",
    "    alph = lang\n",
    "\n",
    "def Key_validation(key):\n",
    "    k=key.value\n",
    "    if(k >= 0 and k < len(alph)):\n",
    "        return 1\n",
    "    else:\n",
    "        return 0\n",
    "    \n",
    "res = \"\"\n",
    "\n",
    "def Encrypt(event):\n",
    "    if (Key_validation(key) == 1):\n",
    "        global res\n",
    "        encrypted = \"\"\n",
    "        t=first_text.value\n",
    "        k=key.value\n",
    "        len_alph=len(alph)\n",
    "        for i in t:\n",
    "            encrypted+=(alph[(alph.find(i)+k)%len_alph]) \n",
    "        res = encrypted\n",
    "        print(\"Encrypted: \" + encrypted)\n",
    "    else:\n",
    "        print(\"Key is invalid, please enter something else\")\n",
    "    \n",
    "    \n",
    "def Decrypt(event):\n",
    "    global res\n",
    "    decrypted = \"\"\n",
    "    t=res\n",
    "    k=key.value\n",
    "    len_alph=len(alph)\n",
    "    for i in t:\n",
    "        decrypted+=(alph[(alph.find(i)-k)%len_alph]) \n",
    "    print(\"Decrypted: \" + decrypted)\n",
    "\n",
    "lang_ch.observe(Lang_ch)\n",
    "encrypt_btn.on_click(Encrypt)\n",
    "decrypt_btn.on_click(Decrypt)\n",
    "\n",
    "display(lang_ch, first_text, key, encrypt_btn, decrypt_btn)"
   ]
  },
  {
   "cell_type": "code",
   "execution_count": 2,
   "metadata": {},
   "outputs": [
    {
     "data": {
      "application/vnd.jupyter.widget-view+json": {
       "model_id": "153ceeab31b34519bfea823a7aff39bb",
       "version_major": 2,
       "version_minor": 0
      },
      "text/plain": [
       "interactive(children=(IntSlider(value=0, description='i', max=34), Button(description='Run Interact', style=Bu…"
      ]
     },
     "metadata": {},
     "output_type": "display_data"
    },
    {
     "data": {
      "text/plain": [
       "<function __main__.Brute_force(i)>"
      ]
     },
     "metadata": {},
     "output_type": "display_data"
    }
   ],
   "source": [
    "from ipywidgets import IntSlider\n",
    "\n",
    "def Brute_force(i):\n",
    "        hacked = \"\"\n",
    "        for symbol in res: #encrypted\n",
    "            if symbol in alph:\n",
    "                num = alph.find(symbol)\n",
    "                num = num - i\n",
    "                if num < 0:\n",
    "                    num = num + len(alph)\n",
    "                hacked += alph[num]\n",
    "            else:\n",
    "                hacked += symbol\n",
    "        print('Hacking key #%s: %s' % (i, hacked))\n",
    "        \n",
    "brute_force = widgets.interact_manual(Brute_force, i=IntSlider(min=0, max=len(alph), step=1))\n",
    "            \n",
    "display(brute_force)"
   ]
  },
  {
   "cell_type": "code",
   "execution_count": 5,
   "metadata": {},
   "outputs": [
    {
     "data": {
      "application/vnd.jupyter.widget-view+json": {
       "model_id": "b91a0c2ca3e2467d87afe44c473544bc",
       "version_major": 2,
       "version_minor": 0
      },
      "text/plain": [
       "FileUpload(value={}, description='Upload')"
      ]
     },
     "metadata": {},
     "output_type": "display_data"
    },
    {
     "data": {
      "application/vnd.jupyter.widget-view+json": {
       "model_id": "ef97ff17834d45339439bbdea71d7d01",
       "version_major": 2,
       "version_minor": 0
      },
      "text/plain": [
       "Button(description='Encrypt file', style=ButtonStyle())"
      ]
     },
     "metadata": {},
     "output_type": "display_data"
    },
    {
     "data": {
      "application/vnd.jupyter.widget-view+json": {
       "model_id": "aa4d50546bb04cea952c4cbf8e45f9b2",
       "version_major": 2,
       "version_minor": 0
      },
      "text/plain": [
       "Button(description='Decrypt file', style=ButtonStyle())"
      ]
     },
     "metadata": {},
     "output_type": "display_data"
    },
    {
     "name": "stdout",
     "output_type": "stream",
     "text": [
      "255\n",
      "Decrypted.\n"
     ]
    }
   ],
   "source": [
    "from array import array\n",
    "from PIL import Image\n",
    "import io\n",
    "\n",
    "encrypt_f_btn = widgets.Button( description = 'Encrypt file')\n",
    "decrypt_f_btn = widgets.Button( description = 'Decrypt file')\n",
    "upload_f = widgets.FileUpload()\n",
    "\n",
    "res = 0\n",
    "\n",
    "def Encrypt_file(event):\n",
    "    global res\n",
    "#     with open(\"participants.xlsx\", \"rb\") as loaded_file:\n",
    "    with open(\"forest.jpg\", \"rb\") as loaded_file:\n",
    "    #with open(\"file1.pdf\", \"rb\") as loaded_file:\n",
    "        f = loaded_file.read()\n",
    "        b = bytearray(f)\n",
    "        res = b\n",
    "        print(b[0])\n",
    "        \n",
    "# import pandas as pd\n",
    "def Decrypt_file(event):\n",
    "    global res\n",
    "    file_data = res\n",
    "    f = Image.open(io.BytesIO(file_data))\n",
    "#     f = upload_f.value\n",
    "#     pd.read_csv(io.BytesIO(f['content']))\n",
    "    f.show()\n",
    "    print(\"Decrypted.\")\n",
    "\n",
    "encrypt_f_btn.on_click(Encrypt_file)\n",
    "decrypt_f_btn.on_click(Decrypt_file)\n",
    "\n",
    "display(upload_f, encrypt_f_btn, decrypt_f_btn)"
   ]
  },
  {
   "cell_type": "code",
   "execution_count": null,
   "metadata": {},
   "outputs": [],
   "source": []
  }
 ],
 "metadata": {
  "kernelspec": {
   "display_name": "Python 3 (ipykernel)",
   "language": "python",
   "name": "python3"
  },
  "language_info": {
   "codemirror_mode": {
    "name": "ipython",
    "version": 3
   },
   "file_extension": ".py",
   "mimetype": "text/x-python",
   "name": "python",
   "nbconvert_exporter": "python",
   "pygments_lexer": "ipython3",
   "version": "3.9.7"
  }
 },
 "nbformat": 4,
 "nbformat_minor": 2
}
