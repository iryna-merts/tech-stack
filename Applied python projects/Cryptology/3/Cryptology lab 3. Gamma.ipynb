{
 "cells": [
  {
   "cell_type": "code",
   "execution_count": 3,
   "metadata": {},
   "outputs": [
    {
     "data": {
      "application/vnd.jupyter.widget-view+json": {
       "model_id": "e5e745516e254c49b4883a209534dc99",
       "version_major": 2,
       "version_minor": 0
      },
      "text/plain": [
       "Dropdown(description='Alphabet: ', options=('Eng', 'Укр'), value='Eng')"
      ]
     },
     "metadata": {},
     "output_type": "display_data"
    },
    {
     "data": {
      "application/vnd.jupyter.widget-view+json": {
       "model_id": "6d65ea012bde468a8b59c4fd693bc3b8",
       "version_major": 2,
       "version_minor": 0
      },
      "text/plain": [
       "Button(description='Encrypt', style=ButtonStyle())"
      ]
     },
     "metadata": {},
     "output_type": "display_data"
    },
    {
     "data": {
      "application/vnd.jupyter.widget-view+json": {
       "model_id": "b85110b48a144347a7c8311ed2af7150",
       "version_major": 2,
       "version_minor": 0
      },
      "text/plain": [
       "Button(description='Decrypt', style=ButtonStyle())"
      ]
     },
     "metadata": {},
     "output_type": "display_data"
    }
   ],
   "source": [
    "import ipywidgets as widgets\n",
    "from math import ceil\n",
    "\n",
    "f  = open('text.txt', 'r')\n",
    "first_text = f.read()\n",
    "\n",
    "fk  = open('key.txt', 'r')\n",
    "keyword = fk.read()\n",
    "\n",
    "encrypt_btn = widgets.Button( description = 'Encrypt')\n",
    "decrypt_btn = widgets.Button( description = 'Decrypt')\n",
    "lang_ch = widgets.Dropdown(\n",
    "    options = ['Eng','Укр'],\n",
    "    value = 'Eng',\n",
    "    description = 'Alphabet: ',\n",
    ") \n",
    "\n",
    "ukr_alph = \"абвгґдеєжзиіїйклмнопрстуфхцчшщьюя \" # 33 + пробіл\n",
    "eng_alph = \"abcdefghijklmnopqrstuvwxyz \" # 26 + пробіл\n",
    "alph = \"\"   \n",
    "def Lang_ch(event):\n",
    "    global alph\n",
    "    lang = \"\"\n",
    "    if (lang_ch.value=='Eng'):\n",
    "        lang = eng_alph\n",
    "    else:\n",
    "        lang = ukr_alph\n",
    "    alph = lang\n",
    "\n",
    "k=0   \n",
    "keyw_value = \"\"\n",
    "res = \"\"\n",
    "\n",
    "def Equation_encrypt(event):\n",
    "    global res\n",
    "    global k\n",
    "    global alph\n",
    "    encrypted = \"\"\n",
    "    len_alph=len(alph)\n",
    "    keyw_value = keyword\n",
    "    t=first_text\n",
    "    print(t)\n",
    "    keyw=keyw_value*(ceil(len(t)/len(keyw_value)))\n",
    "    for p in t:\n",
    "        pn=alph.find(p)\n",
    "        k=alph.find(keyw[t.find(p)])+1\n",
    "        pn^=k\n",
    "        encrypted+=(alph[pn]) \n",
    "\n",
    "    res = encrypted\n",
    "    print(encrypted)   \n",
    "    \n",
    "def Equation_decrypt(event):\n",
    "    global res\n",
    "    global k\n",
    "    decrypted = \"\"\n",
    "    t=res\n",
    "    len_alph=len(alph)\n",
    "    keyw_value = keyword\n",
    "    keyw=keyw_value*(ceil(len(t)/len(keyw_value)))\n",
    "    print(keyw)\n",
    "    for p in res:\n",
    "        resn=alph.find(p)\n",
    "        k=alph.find(keyw[t.find(p)])+1\n",
    "        resn^=k\n",
    "        decrypted+=(alph[resn])\n",
    "    print(\"Decrypted: \" + decrypted)\n",
    "\n",
    "lang_ch.observe(Lang_ch)\n",
    "encrypt_btn.on_click(Equation_encrypt)\n",
    "decrypt_btn.on_click(Equation_decrypt)\n",
    "\n",
    "display(lang_ch, encrypt_btn, decrypt_btn)\n",
    "\n",
    "#вже травень\n",
    "#сова\n",
    "\n",
    "#adtdyhigyftdrdjytf\n",
    "#alica"
   ]
  },
  {
   "cell_type": "code",
   "execution_count": 2,
   "metadata": {},
   "outputs": [
    {
     "data": {
      "text/plain": [
       "str"
      ]
     },
     "execution_count": 2,
     "metadata": {},
     "output_type": "execute_result"
    }
   ],
   "source": [
    "my_str = \"hello world\"\n",
    "my_str_as_bytes = str.encode(my_str)\n",
    "type(my_str_as_bytes) # ensure it is byte representation\n",
    "my_decoded_str = my_str_as_bytes.decode()\n",
    "type(my_decoded_str) # ensure it is string representation"
   ]
  },
  {
   "cell_type": "code",
   "execution_count": null,
   "metadata": {},
   "outputs": [],
   "source": []
  }
 ],
 "metadata": {
  "kernelspec": {
   "display_name": "Python 3",
   "language": "python",
   "name": "python3"
  },
  "language_info": {
   "codemirror_mode": {
    "name": "ipython",
    "version": 3
   },
   "file_extension": ".py",
   "mimetype": "text/x-python",
   "name": "python",
   "nbconvert_exporter": "python",
   "pygments_lexer": "ipython3",
   "version": "3.7.4"
  }
 },
 "nbformat": 4,
 "nbformat_minor": 2
}
