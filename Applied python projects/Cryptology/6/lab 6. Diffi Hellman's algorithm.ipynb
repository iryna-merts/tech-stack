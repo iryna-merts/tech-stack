{
 "cells": [
  {
   "cell_type": "code",
   "execution_count": 12,
   "metadata": {},
   "outputs": [
    {
     "name": "stdout",
     "output_type": "stream",
     "text": [
      "p: 5\n",
      "g: 17\n",
      "секретний ключ Аліси: 9\n",
      "секретний ключ Боба: 15\n",
      "відкритий ключ Аліси = 2\n",
      "відкритий ключ Боба = 3\n",
      "Аліса та Боб отримали однаковий спільний таємний ключ, він дорівнюює 3\n"
     ]
    }
   ],
   "source": [
    "import sympy\n",
    "import math\n",
    "import ipywidgets as widgets\n",
    "import numpy as np\n",
    "\n",
    "p = int(input('p: '))\n",
    "g = int(input('g: '))\n",
    "s_A = int(input('секретний ключ Аліси: '))\n",
    "s_B = int(input('секретний ключ Боба: '))\n",
    "\n",
    "# p = sympy.randprime(0, 100)\n",
    "# g = sympy.randprime(0, 100)\n",
    "# s_A = np.random.randint(0, g)\n",
    "# s_B = np.random.randint(0, g)\n",
    "\n",
    "def check_p_and_g(p,g):\n",
    "    if(sympy.isprime(p) & sympy.isprime(g)):\n",
    "        return 1\n",
    "    else:\n",
    "        return 0\n",
    "\n",
    "def check_s_key(s_A,s_B):\n",
    "    if(s_A>0 and s_A<(g-1) and s_B>0 and s_B<(g-1)):\n",
    "        return 1\n",
    "    else:\n",
    "        return 0\n",
    "\n",
    "A = 0\n",
    "B = 0\n",
    " \n",
    "if(check_p_and_g(p,g)==1):\n",
    "    if(check_s_key(s_A,s_B)==1):\n",
    "        A = (g ** s_A) % p\n",
    "        B = (g ** s_B) % p \n",
    "        print('відкритий ключ Аліси = ' + str(A))\n",
    "        print('відкритий ключ Боба = ' + str(B))\n",
    "    else:\n",
    "         print('секретний ключ має бути більшим за 0 i меншим за g-1')\n",
    "else:\n",
    "    print('p і g мають бути прості')\n",
    "\n",
    "    \n",
    "AB = (A ** s_B) % p\n",
    "BA = (B ** s_A) % p\n",
    "\n",
    "if (AB == BA):\n",
    "    print('Аліса та Боб отримали однаковий спільний таємний ключ, він дорівнюює ' + str(AB))\n",
    "else:\n",
    "    print('Аліса та Боб отримали не однаковий спільний таємний ключ')\n",
    "    \n",
    "#p = 5\n",
    "#g = 17\n",
    "#s_A = 9\n",
    "# A = 2\n",
    "#s_B = 15\n",
    "# B = 3\n",
    "# спільний = 3"
   ]
  },
  {
   "cell_type": "code",
   "execution_count": null,
   "metadata": {},
   "outputs": [],
   "source": []
  }
 ],
 "metadata": {
  "kernelspec": {
   "display_name": "Python 3",
   "language": "python",
   "name": "python3"
  },
  "language_info": {
   "codemirror_mode": {
    "name": "ipython",
    "version": 3
   },
   "file_extension": ".py",
   "mimetype": "text/x-python",
   "name": "python",
   "nbconvert_exporter": "python",
   "pygments_lexer": "ipython3",
   "version": "3.7.4"
  }
 },
 "nbformat": 4,
 "nbformat_minor": 2
}
