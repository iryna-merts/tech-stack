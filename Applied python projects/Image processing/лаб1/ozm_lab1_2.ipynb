{
 "cells": [
  {
   "cell_type": "code",
   "execution_count": 128,
   "metadata": {},
   "outputs": [],
   "source": [
    "#from PIL import Image as ImageP\n",
    "from wand.image import Image\n",
    "import time\n",
    "import numpy as np"
   ]
  },
  {
   "cell_type": "code",
   "execution_count": 127,
   "metadata": {},
   "outputs": [
    {
     "name": "stdout",
     "output_type": "stream",
     "text": [
      "Reading time:  0.5335721969604492\n",
      "Decoding time:  11.767547845840454\n",
      "Encoding time:  0.0\n",
      "Writing time:  0.36003851890563965\n",
      "Ready\n"
     ]
    }
   ],
   "source": [
    "### bmp ###\n",
    "\n",
    "start_read = time.time()\n",
    "img = Image(filename=\"first_eye.bmp\")\n",
    "reading_time = time.time() - start_read \n",
    "print(\"Reading time: \", reading_time)\n",
    "\n",
    "start_dec = time.time()\n",
    "img.quantize(number_colors=256)\n",
    "img.type = \"palette\"\n",
    "decoding_time = time.time() - start_dec \n",
    "print(\"Decoding time: \", decoding_time)\n",
    "\n",
    "start_enc = time.time()\n",
    "img.compression = \"rle\"\n",
    "encoding_time = time.time() - start_enc \n",
    "print(\"Encoding time: \", encoding_time)\n",
    "\n",
    "start_write = time.time()\n",
    "img.save(filename=\"eye.bmp\")\n",
    "writing_time = time.time() - start_write\n",
    "print(\"Writing time: \", writing_time)\n",
    "\n",
    "### substraction ###\n",
    "\n",
    "res_img = Image(filename=\"eye.bmp\")\n",
    "\n",
    "bmp_image = np.array(img)\n",
    "bmp_2_image = np.array(res_img)\n",
    "\n",
    "substr_img = bmp_image[0,1,2] - bmp_2_image\n",
    "\n",
    "res_substr = Image.from_array(substr_img)\n",
    "res_substr.save(filename=\"eye_substr_bmp.bmp\")\n",
    "\n",
    "print('Ready')\n",
    "\n",
    "### RGB substraction ###\n",
    "\n",
    "# substr_green = bmp_image[1] - bmp_2_image[1]\n",
    "# res_substr_green = Image.from_array(substr_green)\n",
    "# res_substr_green.save(filename=\"eye_substr_bmp_green.bmp\")"
   ]
  },
  {
   "cell_type": "code",
   "execution_count": 125,
   "metadata": {},
   "outputs": [
    {
     "name": "stdout",
     "output_type": "stream",
     "text": [
      "Reading time:  5.12346339225769\n",
      "Decoding time:  238.07821679115295\n",
      "Encoding time:  0.0010018348693847656\n",
      "Writing time:  2.5382168292999268\n",
      "Ready\n"
     ]
    }
   ],
   "source": [
    "### tiff ###\n",
    "\n",
    "start_read = time.time()\n",
    "img = Image(filename=\"first_eye.bmp\")\n",
    "reading_time = time.time() - start_read \n",
    "print(\"Reading time: \", reading_time)\n",
    "\n",
    "start_decc = time.time()\n",
    "img.convert(\"tiff\")\n",
    "decoding_time = time.time() - start_dec \n",
    "print(\"Decoding time: \", decoding_time)\n",
    "\n",
    "start_enc = time.time()\n",
    "img.compression = \"lzw\"\n",
    "encoding_time = time.time() - start_enc \n",
    "print(\"Encoding time: \", encoding_time)\n",
    "\n",
    "start_write = time.time()\n",
    "img.save(filename=\"eye.tiff\")\n",
    "writing_time = time.time() - start_write\n",
    "print(\"Writing time: \", writing_time)\n",
    "\n",
    "### substraction ###\n",
    "\n",
    "res_img = Image(filename=\"eye.tiff\")\n",
    "\n",
    "bmp_image = np.array(img)\n",
    "tiff_image = np.array(res_img)\n",
    "\n",
    "bmp_image_3 = bmp_image[0,1,2].copy()\n",
    "\n",
    "substr_img = bmp_image_3 - tiff_image\n",
    "\n",
    "res_substr = Image.from_array(substr_img)\n",
    "res_substr.save(filename=\"eye_substr_tiff.bmp\")\n",
    "\n",
    "print('Ready')"
   ]
  },
  {
   "cell_type": "code",
   "execution_count": 126,
   "metadata": {},
   "outputs": [
    {
     "name": "stdout",
     "output_type": "stream",
     "text": [
      "Reading time:  0.5394012928009033\n",
      "Decoding time:  0.000995635986328125\n",
      "Encoding time:  0.000997304916381836\n",
      "Writing time:  0.9213850498199463\n",
      "Ready\n"
     ]
    }
   ],
   "source": [
    "### jpeg ###\n",
    "\n",
    "start_read = time.time()\n",
    "img = Image(filename=\"first_eye.bmp\")\n",
    "reading_time = time.time() - start_read \n",
    "print(\"Reading time: \", reading_time)\n",
    "\n",
    "start_dec = time.time()\n",
    "# img.convert(\"rgb\")\n",
    "img.convert(\"jpeg\")\n",
    "decoding_time = time.time() - start_dec \n",
    "print(\"Decoding time: \", decoding_time)\n",
    "\n",
    "start_enc = time.time()\n",
    "img.compression = \"jpeg\"\n",
    "encoding_time = time.time() - start_enc \n",
    "print(\"Encoding time: \", encoding_time)\n",
    "\n",
    "start_write = time.time()\n",
    "img.save(filename=\"eye.jpeg\")\n",
    "writing_time = time.time() - start_write\n",
    "print(\"Writing time: \", writing_time)\n",
    "\n",
    "### substraction ###\n",
    "\n",
    "res_img = Image(filename=\"eye.jpeg\")\n",
    "\n",
    "bmp_image = np.array(img2)\n",
    "jpeg_image = np.array(res_img)\n",
    "\n",
    "substr_img = bmp_image[0,1,2] - jpeg_image\n",
    "\n",
    "res_substr = Image.from_array(substr_img)\n",
    "res_substr.save(filename=\"eye_substr_jpeg.bmp\")\n",
    "\n",
    "print('Ready')"
   ]
  },
  {
   "cell_type": "code",
   "execution_count": null,
   "metadata": {},
   "outputs": [],
   "source": []
  },
  {
   "cell_type": "code",
   "execution_count": null,
   "metadata": {},
   "outputs": [],
   "source": []
  }
 ],
 "metadata": {
  "kernelspec": {
   "display_name": "Python 3 (ipykernel)",
   "language": "python",
   "name": "python3"
  },
  "language_info": {
   "codemirror_mode": {
    "name": "ipython",
    "version": 3
   },
   "file_extension": ".py",
   "mimetype": "text/x-python",
   "name": "python",
   "nbconvert_exporter": "python",
   "pygments_lexer": "ipython3",
   "version": "3.9.7"
  }
 },
 "nbformat": 4,
 "nbformat_minor": 2
}
