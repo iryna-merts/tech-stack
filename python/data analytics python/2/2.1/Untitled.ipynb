{
 "cells": [
  {
   "cell_type": "code",
   "execution_count": 65,
   "metadata": {},
   "outputs": [
    {
     "data": {
      "text/html": [
       "<div>\n",
       "<style>\n",
       "    .dataframe thead tr:only-child th {\n",
       "        text-align: right;\n",
       "    }\n",
       "\n",
       "    .dataframe thead th {\n",
       "        text-align: left;\n",
       "    }\n",
       "\n",
       "    .dataframe tbody tr th {\n",
       "        vertical-align: top;\n",
       "    }\n",
       "</style>\n",
       "<table border=\"1\" class=\"dataframe\">\n",
       "  <thead>\n",
       "    <tr style=\"text-align: right;\">\n",
       "      <th></th>\n",
       "      <th>hours</th>\n",
       "      <th>payment</th>\n",
       "    </tr>\n",
       "    <tr>\n",
       "      <th>id</th>\n",
       "      <th></th>\n",
       "      <th></th>\n",
       "    </tr>\n",
       "  </thead>\n",
       "  <tbody>\n",
       "    <tr>\n",
       "      <th>1</th>\n",
       "      <td>80.0</td>\n",
       "      <td>2100.0</td>\n",
       "    </tr>\n",
       "    <tr>\n",
       "      <th>2</th>\n",
       "      <td>120.0</td>\n",
       "      <td>3000.0</td>\n",
       "    </tr>\n",
       "    <tr>\n",
       "      <th>3</th>\n",
       "      <td>NaN</td>\n",
       "      <td>NaN</td>\n",
       "    </tr>\n",
       "  </tbody>\n",
       "</table>\n",
       "</div>"
      ],
      "text/plain": [
       "    hours  payment\n",
       "id                \n",
       "1    80.0   2100.0\n",
       "2   120.0   3000.0\n",
       "3     NaN      NaN"
      ]
     },
     "execution_count": 65,
     "metadata": {},
     "output_type": "execute_result"
    }
   ],
   "source": [
    "import pandas as pd\n",
    "import numpy as np\n",
    "import csv\n",
    "import matplotlib\n",
    "%matplotlib inline\n",
    "\n",
    "class Worker:\n",
    "    def __init__(self, ident, hours, payment):\n",
    "        self.ident=ident\n",
    "        self.hours=hours\n",
    "        self.payment=payment\n",
    "       \n",
    "    def __lt__(self,other):\n",
    "        return self.date < other.date\n",
    "    \n",
    "    def __str__(self):\n",
    "        return f'{self.ident} {self.hours} {self.payment} '\n",
    "\n",
    "def read_from(filename):\n",
    "    with open(filename, 'r') as csv_file:\n",
    "        worker=csv.DictReader(csv_file, dialect=\"excel\",fieldnames = [\"ident\",\"hours\",\"payment\"])\n",
    "        for line in worker:\n",
    "            data.append(Worker(line[\"ident\"], line[\"hours\"],line[\"payment\"]))\n",
    "#data=[]\n",
    "#with open(filename,'w'):\n",
    "#    read_from('1.csv') \n",
    "#    read_from('2.csv')\n",
    "#    read_from('3.csv') \n",
    "#    for i in data:\n",
    "#        write()\n",
    "            \n",
    "#with open(filename,'w'):\n",
    "#    write(data)\n",
    "\n",
    "df = pd.read_csv('1.csv',index_col=0)\n",
    "\n",
    "df1 = pd.read_csv('2.csv',index_col=0)\n",
    "\n",
    "df2 = pd.read_csv('3.csv',index_col=0)\n",
    "\n",
    "d=df+df1+df2\n",
    "d"
   ]
  },
  {
   "cell_type": "code",
   "execution_count": 66,
   "metadata": {},
   "outputs": [
    {
     "name": "stdout",
     "output_type": "stream",
     "text": [
      "id\n",
      "1    160.0\n",
      "2    240.0\n",
      "3      NaN\n",
      "Name: hours, dtype: float64\n"
     ]
    }
   ],
   "source": [
    "sum=0\n",
    "for i in d:\n",
    "    sum+=d['hours']\n",
    "print(sum)"
   ]
  },
  {
   "cell_type": "code",
   "execution_count": 67,
   "metadata": {},
   "outputs": [
    {
     "name": "stdout",
     "output_type": "stream",
     "text": [
      "id\n",
      "1    336000.0\n",
      "2    720000.0\n",
      "3         NaN\n",
      "dtype: float64\n"
     ]
    }
   ],
   "source": [
    "sum=0\n",
    "for i in d:\n",
    "    sum+=d['hours']*d['payment']\n",
    "print(sum)"
   ]
  },
  {
   "cell_type": "code",
   "execution_count": 68,
   "metadata": {},
   "outputs": [
    {
     "name": "stdout",
     "output_type": "stream",
     "text": [
      "id\n",
      "1    4200.0\n",
      "2    6000.0\n",
      "3       NaN\n",
      "Name: payment, dtype: float64\n"
     ]
    }
   ],
   "source": [
    "sum=0\n",
    "for i in d:\n",
    "    sum+=d['payment']\n",
    "print(sum)\n"
   ]
  },
  {
   "cell_type": "code",
   "execution_count": 69,
   "metadata": {},
   "outputs": [
    {
     "data": {
      "text/plain": [
       "<matplotlib.axes._subplots.AxesSubplot at 0x2373e5e6358>"
      ]
     },
     "execution_count": 69,
     "metadata": {},
     "output_type": "execute_result"
    },
    {
     "data": {
      "image/png": "[encoded data removed]",
      "text/plain": [
       "<matplotlib.figure.Figure at 0x2373e3700f0>"
      ]
     },
     "metadata": {},
     "output_type": "display_data"
    }
   ],
   "source": [
    "df.plot()"
   ]
  },
  {
   "cell_type": "code",
   "execution_count": null,
   "metadata": {
    "collapsed": true
   },
   "outputs": [],
   "source": []
  }
 ],
 "metadata": {
  "kernelspec": {
   "display_name": "Python 3",
   "language": "python",
   "name": "python3"
  },
  "language_info": {
   "codemirror_mode": {
    "name": "ipython",
    "version": 3
   },
   "file_extension": ".py",
   "mimetype": "text/x-python",
   "name": "python",
   "nbconvert_exporter": "python",
   "pygments_lexer": "ipython3",
   "version": "3.6.1"
  }
 },
 "nbformat": 4,
 "nbformat_minor": 2
}
