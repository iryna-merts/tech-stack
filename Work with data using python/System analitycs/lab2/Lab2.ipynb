{
 "cells": [
  {
   "cell_type": "code",
   "execution_count": 53,
   "metadata": {},
   "outputs": [],
   "source": [
    "import numpy as np\n",
    "import pandas as pd\n",
    "import itertools"
   ]
  },
  {
   "cell_type": "code",
   "execution_count": 54,
   "metadata": {},
   "outputs": [],
   "source": [
    "def f12(x1, x2):\n",
    "    return (-6*x1**2 + 10*x1 + 6)*(-2*x2**2 + 5*x2 + 8)\n",
    "\n",
    "def f21(x1, x2):\n",
    "    return (4*x2**2 - 9*x2 + 11)*(-3*x1**2 + 15)"
   ]
  },
  {
   "cell_type": "code",
   "execution_count": 55,
   "metadata": {},
   "outputs": [
    {
     "data": {
      "text/plain": [
       "20"
      ]
     },
     "execution_count": 55,
     "metadata": {},
     "output_type": "execute_result"
    }
   ],
   "source": [
    "f12(2,2)"
   ]
  },
  {
   "cell_type": "code",
   "execution_count": 1,
   "metadata": {},
   "outputs": [],
   "source": [
    "step1, step2 = 0.01, 0.01\n",
    "a1, b1 = 0, 2 # 0, 2\n",
    "a2, b2 = -1, 1 # 0, 2"
   ]
  },
  {
   "cell_type": "code",
   "execution_count": 71,
   "metadata": {},
   "outputs": [],
   "source": [
    "first_x_grid = [round(x, 3) for x in np.arange(a1, b1+step1/10, step1)]\n",
    "second_x_grid = [round(x, 3) for x in np.arange(a2, b2+step2/10, step2)]\n",
    "x_grid = [first_x_grid, second_x_grid]"
   ]
  },
  {
   "cell_type": "code",
   "execution_count": 72,
   "metadata": {},
   "outputs": [],
   "source": [
    "indexes = list(itertools.product(x_grid[0], x_grid[1]))\n",
    "index = pd.MultiIndex.from_tuples(indexes, names=[\"x1\", \"x2\"])"
   ]
  },
  {
   "cell_type": "code",
   "execution_count": 73,
   "metadata": {},
   "outputs": [],
   "source": [
    "values = np.array([(f12(x1, x2), f21(x1, x2)) for x1 in x_grid[0] for x2 in x_grid[1]])"
   ]
  },
  {
   "cell_type": "code",
   "execution_count": 74,
   "metadata": {},
   "outputs": [],
   "source": [
    "df = pd.DataFrame(values, index=index, columns=[\"f12\", \"f21\"])\n",
    "pd.options.display.max_rows = 14"
   ]
  },
  {
   "cell_type": "code",
   "execution_count": 75,
   "metadata": {},
   "outputs": [
    {
     "data": {
      "text/html": [
       "<div>\n",
       "<style scoped>\n",
       "    .dataframe tbody tr th:only-of-type {\n",
       "        vertical-align: middle;\n",
       "    }\n",
       "\n",
       "    .dataframe tbody tr th {\n",
       "        vertical-align: top;\n",
       "    }\n",
       "\n",
       "    .dataframe thead th {\n",
       "        text-align: right;\n",
       "    }\n",
       "</style>\n",
       "<table border=\"1\" class=\"dataframe\">\n",
       "  <thead>\n",
       "    <tr style=\"text-align: right;\">\n",
       "      <th></th>\n",
       "      <th></th>\n",
       "      <th>f12</th>\n",
       "      <th>f21</th>\n",
       "    </tr>\n",
       "    <tr>\n",
       "      <th>x1</th>\n",
       "      <th>x2</th>\n",
       "      <th></th>\n",
       "      <th></th>\n",
       "    </tr>\n",
       "  </thead>\n",
       "  <tbody>\n",
       "    <tr>\n",
       "      <th rowspan=\"5\" valign=\"top\">0.0</th>\n",
       "      <th>-1.00</th>\n",
       "      <td>6.0000</td>\n",
       "      <td>360.0000</td>\n",
       "    </tr>\n",
       "    <tr>\n",
       "      <th>-0.99</th>\n",
       "      <td>6.5388</td>\n",
       "      <td>357.4560</td>\n",
       "    </tr>\n",
       "    <tr>\n",
       "      <th>-0.98</th>\n",
       "      <td>7.0752</td>\n",
       "      <td>354.9240</td>\n",
       "    </tr>\n",
       "    <tr>\n",
       "      <th>-0.97</th>\n",
       "      <td>7.6092</td>\n",
       "      <td>352.4040</td>\n",
       "    </tr>\n",
       "    <tr>\n",
       "      <th>-0.96</th>\n",
       "      <td>8.1408</td>\n",
       "      <td>349.8960</td>\n",
       "    </tr>\n",
       "    <tr>\n",
       "      <th>...</th>\n",
       "      <th>...</th>\n",
       "      <td>...</td>\n",
       "      <td>...</td>\n",
       "    </tr>\n",
       "    <tr>\n",
       "      <th rowspan=\"5\" valign=\"top\">2.0</th>\n",
       "      <th>0.96</th>\n",
       "      <td>21.9136</td>\n",
       "      <td>18.1392</td>\n",
       "    </tr>\n",
       "    <tr>\n",
       "      <th>0.97</th>\n",
       "      <td>21.9364</td>\n",
       "      <td>18.1008</td>\n",
       "    </tr>\n",
       "    <tr>\n",
       "      <th>0.98</th>\n",
       "      <td>21.9584</td>\n",
       "      <td>18.0648</td>\n",
       "    </tr>\n",
       "    <tr>\n",
       "      <th>0.99</th>\n",
       "      <td>21.9796</td>\n",
       "      <td>18.0312</td>\n",
       "    </tr>\n",
       "    <tr>\n",
       "      <th>1.00</th>\n",
       "      <td>22.0000</td>\n",
       "      <td>18.0000</td>\n",
       "    </tr>\n",
       "  </tbody>\n",
       "</table>\n",
       "<p>40401 rows × 2 columns</p>\n",
       "</div>"
      ],
      "text/plain": [
       "               f12       f21\n",
       "x1  x2                      \n",
       "0.0 -1.00   6.0000  360.0000\n",
       "    -0.99   6.5388  357.4560\n",
       "    -0.98   7.0752  354.9240\n",
       "    -0.97   7.6092  352.4040\n",
       "    -0.96   8.1408  349.8960\n",
       "...            ...       ...\n",
       "2.0  0.96  21.9136   18.1392\n",
       "     0.97  21.9364   18.1008\n",
       "     0.98  21.9584   18.0648\n",
       "     0.99  21.9796   18.0312\n",
       "     1.00  22.0000   18.0000\n",
       "\n",
       "[40401 rows x 2 columns]"
      ]
     },
     "execution_count": 75,
     "metadata": {},
     "output_type": "execute_result"
    }
   ],
   "source": [
    "df"
   ]
  },
  {
   "cell_type": "code",
   "execution_count": 76,
   "metadata": {},
   "outputs": [
    {
     "name": "stdout",
     "output_type": "stream",
     "text": [
      "f12*\n",
      "x1    x2  \n",
      "0.83  -1.0    10.1666\n",
      "Name: f12, dtype: float64\n",
      "\n",
      "f21*\n",
      "x1   x2  \n",
      "1.0   1.0    72.0\n",
      "2.0  -1.0    72.0\n",
      "Name: f21, dtype: float64\n"
     ]
    }
   ],
   "source": [
    "max_x1_min_x1 = df.groupby(\"x1\").min().max()[\"f12\"]\n",
    "print(\"f12*\")\n",
    "print(df.loc[df['f12'] == max_x1_min_x1][\"f12\"])\n",
    "max_x2_min_x2 = df.groupby(\"x2\").min().max()[\"f21\"]\n",
    "print(\"\\nf21*\")\n",
    "print(df.loc[df['f21'] == max_x2_min_x2][\"f21\"])"
   ]
  },
  {
   "cell_type": "code",
   "execution_count": 77,
   "metadata": {},
   "outputs": [],
   "source": [
    "df[\"d12\"] = abs(df[\"f12\"]-10.1666)"
   ]
  },
  {
   "cell_type": "code",
   "execution_count": 78,
   "metadata": {},
   "outputs": [],
   "source": [
    "df[\"d21\"] = abs(df[\"f21\"]-72.0)"
   ]
  },
  {
   "cell_type": "code",
   "execution_count": 79,
   "metadata": {},
   "outputs": [],
   "source": [
    "df[\"max_d\"] = [max(ab[0], ab[1]) for ab in list(zip(df[\"d12\"], df[\"d21\"]))]"
   ]
  },
  {
   "cell_type": "code",
   "execution_count": 80,
   "metadata": {},
   "outputs": [
    {
     "name": "stdout",
     "output_type": "stream",
     "text": [
      "0.4662308799999977\n"
     ]
    }
   ],
   "source": [
    "min_v = min(df[\"max_d\"])\n",
    "print(min_v)"
   ]
  },
  {
   "cell_type": "code",
   "execution_count": 81,
   "metadata": {},
   "outputs": [
    {
     "data": {
      "text/html": [
       "<div>\n",
       "<style scoped>\n",
       "    .dataframe tbody tr th:only-of-type {\n",
       "        vertical-align: middle;\n",
       "    }\n",
       "\n",
       "    .dataframe tbody tr th {\n",
       "        vertical-align: top;\n",
       "    }\n",
       "\n",
       "    .dataframe thead th {\n",
       "        text-align: right;\n",
       "    }\n",
       "</style>\n",
       "<table border=\"1\" class=\"dataframe\">\n",
       "  <thead>\n",
       "    <tr style=\"text-align: right;\">\n",
       "      <th></th>\n",
       "      <th></th>\n",
       "      <th>f12</th>\n",
       "      <th>f21</th>\n",
       "      <th>d12</th>\n",
       "      <th>d21</th>\n",
       "      <th>max_d</th>\n",
       "    </tr>\n",
       "    <tr>\n",
       "      <th>x1</th>\n",
       "      <th>x2</th>\n",
       "      <th></th>\n",
       "      <th></th>\n",
       "      <th></th>\n",
       "      <th></th>\n",
       "      <th></th>\n",
       "    </tr>\n",
       "  </thead>\n",
       "  <tbody>\n",
       "    <tr>\n",
       "      <th>1.94</th>\n",
       "      <th>-0.71</th>\n",
       "      <td>9.700369</td>\n",
       "      <td>71.982219</td>\n",
       "      <td>0.466231</td>\n",
       "      <td>0.017781</td>\n",
       "      <td>0.466231</td>\n",
       "    </tr>\n",
       "  </tbody>\n",
       "</table>\n",
       "</div>"
      ],
      "text/plain": [
       "                 f12        f21       d12       d21     max_d\n",
       "x1   x2                                                      \n",
       "1.94 -0.71  9.700369  71.982219  0.466231  0.017781  0.466231"
      ]
     },
     "execution_count": 81,
     "metadata": {},
     "output_type": "execute_result"
    }
   ],
   "source": [
    "df.loc[df[\"max_d\"] == min_v]"
   ]
  },
  {
   "cell_type": "code",
   "execution_count": 83,
   "metadata": {},
   "outputs": [
    {
     "data": {
      "text/plain": [
       "f12       9.700369\n",
       "f21      71.982219\n",
       "d12       0.466231\n",
       "d21       0.017781\n",
       "max_d     0.466231\n",
       "Name: -0.71, dtype: float64"
      ]
     },
     "execution_count": 83,
     "metadata": {},
     "output_type": "execute_result"
    }
   ],
   "source": [
    "df.xs(1.94, level=\"x1\").xs(-0.71)"
   ]
  },
  {
   "cell_type": "code",
   "execution_count": null,
   "metadata": {},
   "outputs": [],
   "source": []
  },
  {
   "cell_type": "code",
   "execution_count": null,
   "metadata": {},
   "outputs": [],
   "source": []
  }
 ],
 "metadata": {
  "kernelspec": {
   "display_name": "Python 3 (ipykernel)",
   "language": "python",
   "name": "python3"
  },
  "language_info": {
   "codemirror_mode": {
    "name": "ipython",
    "version": 3
   },
   "file_extension": ".py",
   "mimetype": "text/x-python",
   "name": "python",
   "nbconvert_exporter": "python",
   "pygments_lexer": "ipython3",
   "version": "3.9.7"
  }
 },
 "nbformat": 4,
 "nbformat_minor": 2
}
