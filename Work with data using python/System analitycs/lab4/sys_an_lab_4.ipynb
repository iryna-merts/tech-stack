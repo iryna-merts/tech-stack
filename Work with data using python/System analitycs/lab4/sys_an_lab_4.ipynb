{
 "cells": [
  {
   "cell_type": "code",
   "execution_count": 39,
   "metadata": {},
   "outputs": [],
   "source": [
    "import numpy as np\n",
    "import pandas as pd\n",
    "import matplotlib.pyplot as plt\n",
    "import seaborn as sns\n",
    "import scipy\n",
    "from math import *\n",
    "\n",
    "%matplotlib inline"
   ]
  },
  {
   "cell_type": "code",
   "execution_count": 40,
   "metadata": {},
   "outputs": [],
   "source": [
    "def norm(df, col):\n",
    "    max_v = df[col].max()\n",
    "    min_v = df[col].min()\n",
    "    df[col] = df[col].apply(lambda value: (value - min_v) / (max_v - min_v))\n",
    "\n",
    "def T_star(x, p):\n",
    "    def T(x, p):\n",
    "        if p == 0:\n",
    "            return 1\n",
    "        elif p == 1:\n",
    "            return x\n",
    "        elif p == 2:\n",
    "            return 2*x*x - 1\n",
    "        elif p == 3:\n",
    "            return 4*(x**3) - 3*x\n",
    "        elif p == 4:\n",
    "            return 8*(x**4)-8*(x**2) + 1\n",
    "        elif p == 5:\n",
    "            return 6*(x**5) - 20*(x**3) + 5*x\n",
    "        else:\n",
    "            return 2*x*T(x,p-1) - T(x, p-2)\n",
    "    \n",
    "    if p == 0:\n",
    "        return 0.5\n",
    "    return T(2*x-1, p)\n",
    "\n",
    "def Psi(Lambda, x):\n",
    "    m = x.shape[1]\n",
    "    res = np.zeros([q0, m])\n",
    "    for i in range(q0):\n",
    "        for j in range(m):\n",
    "            suma = 0.0\n",
    "            for p in range(Lambda.shape[1]):\n",
    "                suma += Lambda[j, p] * log(1 + _star(x[i, j], p))\n",
    "            res[i, j] = exp(suma) - 1\n",
    "    return res\n",
    "\n",
    "def calc_A(psi, y):\n",
    "    _y = np.log(y + 1)\n",
    "    _psi = np.log(psi + 1)\n",
    "    A1_temp, re, d, s = np.linalg.lstsq(_psi, _y)\n",
    "    A1 = A1_temp.T\n",
    "    return A1\n",
    "\n",
    "def calc_c(a1, a2, a3, psi1, psi2, psi3, y, index):\n",
    "    _y = np.log(y + 1)\n",
    "    matrix1 = np.log(calc_Fi(a1, psi1, index)+1)\n",
    "    matrix2 = np.log(calc_Fi(a2, psi2, index)+1)\n",
    "    matrix3 = np.log(calc_Fi(a3, psi3, index)+1)\n",
    "\n",
    "    matrix = np.concatenate((matrix1, matrix2, matrix3), axis=0).T\n",
    "    y_c = _y[['y'+str(index+1)]].to_numpy()\n",
    "    x, residuals, r, s = np.linalg.lstsq(matrix, y_c)\n",
    "    return x\n",
    "\n",
    "def calc_Fi(a, psi, index):\n",
    "    res = []\n",
    "    for i in range(0, len(psi)):\n",
    "        suma = 0\n",
    "        for j in range(0, len(psi[i])):             \n",
    "            suma += a[index][j] *log(psi[i][j] + 1)\n",
    "            res[i] = exp(suma) - 1\n",
    "    return res\n"
   ]
  },
  {
   "cell_type": "code",
   "execution_count": 41,
   "metadata": {},
   "outputs": [],
   "source": [
    "sample = pd.read_csv('vybirka-2.csv')"
   ]
  },
  {
   "cell_type": "code",
   "execution_count": 42,
   "metadata": {},
   "outputs": [],
   "source": [
    "norm_sample = sample.copy()\n",
    "for col in norm_sample.columns[1:]:\n",
    "    norm(norm_sample, col)"
   ]
  },
  {
   "cell_type": "code",
   "execution_count": 43,
   "metadata": {},
   "outputs": [],
   "source": [
    "p1 = 3\n",
    "p2 = 3\n",
    "p3 = 3\n",
    "\n",
    "n1 = 2\n",
    "n2 = 2\n",
    "n3 = 3\n",
    "q0 = 45"
   ]
  },
  {
   "cell_type": "code",
   "execution_count": 44,
   "metadata": {},
   "outputs": [
    {
     "data": {
      "text/html": [
       "<div>\n",
       "<style scoped>\n",
       "    .dataframe tbody tr th:only-of-type {\n",
       "        vertical-align: middle;\n",
       "    }\n",
       "\n",
       "    .dataframe tbody tr th {\n",
       "        vertical-align: top;\n",
       "    }\n",
       "\n",
       "    .dataframe thead th {\n",
       "        text-align: right;\n",
       "    }\n",
       "</style>\n",
       "<table border=\"1\" class=\"dataframe\">\n",
       "  <thead>\n",
       "    <tr style=\"text-align: right;\">\n",
       "      <th></th>\n",
       "      <th>y1</th>\n",
       "      <th>y2</th>\n",
       "      <th>y3</th>\n",
       "      <th>y4</th>\n",
       "    </tr>\n",
       "  </thead>\n",
       "  <tbody>\n",
       "    <tr>\n",
       "      <td>0</td>\n",
       "      <td>0.362340</td>\n",
       "      <td>3.722023e-06</td>\n",
       "      <td>0.012578</td>\n",
       "      <td>0.000000</td>\n",
       "    </tr>\n",
       "    <tr>\n",
       "      <td>1</td>\n",
       "      <td>0.576367</td>\n",
       "      <td>1.479101e-06</td>\n",
       "      <td>0.052944</td>\n",
       "      <td>0.026370</td>\n",
       "    </tr>\n",
       "    <tr>\n",
       "      <td>2</td>\n",
       "      <td>1.000000</td>\n",
       "      <td>9.151350e-07</td>\n",
       "      <td>0.043941</td>\n",
       "      <td>0.058200</td>\n",
       "    </tr>\n",
       "    <tr>\n",
       "      <td>3</td>\n",
       "      <td>0.439406</td>\n",
       "      <td>1.430098e-06</td>\n",
       "      <td>0.064668</td>\n",
       "      <td>0.492081</td>\n",
       "    </tr>\n",
       "    <tr>\n",
       "      <td>4</td>\n",
       "      <td>0.337136</td>\n",
       "      <td>1.225713e-06</td>\n",
       "      <td>1.000000</td>\n",
       "      <td>0.898937</td>\n",
       "    </tr>\n",
       "  </tbody>\n",
       "</table>\n",
       "</div>"
      ],
      "text/plain": [
       "         y1            y2        y3        y4\n",
       "0  0.362340  3.722023e-06  0.012578  0.000000\n",
       "1  0.576367  1.479101e-06  0.052944  0.026370\n",
       "2  1.000000  9.151350e-07  0.043941  0.058200\n",
       "3  0.439406  1.430098e-06  0.064668  0.492081\n",
       "4  0.337136  1.225713e-06  1.000000  0.898937"
      ]
     },
     "execution_count": 44,
     "metadata": {},
     "output_type": "execute_result"
    }
   ],
   "source": [
    "y = norm_sample[['y1', 'y2', 'y3', 'y4']]\n",
    "y.head()"
   ]
  },
  {
   "cell_type": "code",
   "execution_count": 45,
   "metadata": {},
   "outputs": [
    {
     "name": "stderr",
     "output_type": "stream",
     "text": [
      "C:\\ProgramData\\Anaconda3\\lib\\site-packages\\ipykernel_launcher.py:23: FutureWarning: `rcond` parameter will change to the default of machine precision times ``max(M, N)`` where M and N are the input matrix dimensions.\n",
      "To use the future default and silence this warning we advise to pass `rcond=None`, to keep using the old, explicitly pass `rcond=-1`.\n"
     ]
    }
   ],
   "source": [
    "m = n1 * p1 + n2 * p2 + n3 * p3 + 1\n",
    "matrix = np.zeros((q0, m))\n",
    "\n",
    "temp = pd.DataFrame()\n",
    "j = 0\n",
    "for i in range(1, n1+1):\n",
    "    for p in range(0, p1+1):\n",
    "        temp.insert(j, f'T_{p}(x1{i}', norm_sample[f'x1{i}'].map(lambda x: T_star(x, p)))\n",
    "        j+=1\n",
    "\n",
    "for i in range(1, n2+1):\n",
    "    for p in range(0, p2+1):\n",
    "        temp.insert(j, f'T_{p}(x2{i}', norm_sample[f'x2{i}'].map(lambda x: T_star(x, p)))\n",
    "        j+=1\n",
    "\n",
    "for i in range(1, n3+1):\n",
    "    for p in range(0, p3+1):\n",
    "        temp.insert(j, f'T_{p}(x3{i}', norm_sample[f'x3{i}'].map(lambda x: T_star(x, p)))\n",
    "        j+=1\n",
    "\n",
    "biq0 = (norm_sample[['y1', 'y2', 'y3','y4']].max(axis=1) + norm_sample[['y1', 'y2', 'y3','y4']].min(axis=1)) / 2\n",
    "biq0T = np.array([biq0.to_numpy()]).T\n",
    "x, residuals, r, s = np.linalg.lstsq(temp, biq0T)"
   ]
  },
  {
   "cell_type": "code",
   "execution_count": 46,
   "metadata": {},
   "outputs": [],
   "source": [
    "L = x.T[0]\n",
    "cols = temp.columns\n",
    "end1 = n1*(p1+1)\n",
    "end2 = end1 + n2*(p2+1)\n",
    "lambda1_f = x[:n1*(p1+1)].T[0]\n",
    "temp.loc[:, cols[:n1*(p1+1)]] *= lambda1_f\n",
    "lambda1 = np.reshape(x[:n1*(p1+1)], (n1, p1+1))\n",
    "lambda2_f = x[end1:end2].T[0]\n",
    "lambda2 = np.reshape(x[end1:end2], (n2, p2+1))\n",
    "temp.loc[:, cols[end1:end2]] *= lambda2_f\n",
    "lambda3_f = x[end2:].T[0]\n",
    "lambda3 = np.reshape(x[end2:], (n3, p3+1))\n",
    "temp.loc[:, cols[end2:]] *= lambda3_f"
   ]
  },
  {
   "cell_type": "code",
   "execution_count": 47,
   "metadata": {},
   "outputs": [
    {
     "name": "stdout",
     "output_type": "stream",
     "text": [
      "lambda_1 \n",
      "[[-4.89966910e+12  1.57617853e+13 -1.72223352e+13 -1.12231283e+13]\n",
      " [ 1.09079747e+13  1.52000677e+13  4.18821209e+13  6.74337519e+11]]\n",
      "\n",
      "lambda_2 \n",
      "[[ 3.23542406e+12  4.93612821e+13 -1.54594194e+13 -4.07807196e+12]\n",
      " [-4.17633894e+11  8.24161892e+12  4.38093916e+13  2.99779667e+13]]\n",
      "\n",
      "lambda_3 \n",
      "[[-4.17633894e+11  2.10509090e+13 -4.18661598e+13  1.55323919e+13]\n",
      " [-4.17633894e+11  5.37489318e+13  5.71486743e+12 -2.53835961e+13]\n",
      " [-4.17633894e+11  9.87991799e+12  3.58915874e+12 -5.49989984e+12]]\n"
     ]
    }
   ],
   "source": [
    "print(f\"lambda_1 \\n{lambda1}\\n\")\n",
    "print(f\"lambda_2 \\n{lambda2}\\n\")\n",
    "print(f\"lambda_3 \\n{lambda3}\")"
   ]
  },
  {
   "cell_type": "code",
   "execution_count": 48,
   "metadata": {},
   "outputs": [
    {
     "data": {
      "text/html": [
       "<div>\n",
       "<style scoped>\n",
       "    .dataframe tbody tr th:only-of-type {\n",
       "        vertical-align: middle;\n",
       "    }\n",
       "\n",
       "    .dataframe tbody tr th {\n",
       "        vertical-align: top;\n",
       "    }\n",
       "\n",
       "    .dataframe thead th {\n",
       "        text-align: right;\n",
       "    }\n",
       "</style>\n",
       "<table border=\"1\" class=\"dataframe\">\n",
       "  <thead>\n",
       "    <tr style=\"text-align: right;\">\n",
       "      <th></th>\n",
       "      <th>psi_x11</th>\n",
       "      <th>psi_x12</th>\n",
       "      <th>psi_x21</th>\n",
       "      <th>psi_x22</th>\n",
       "      <th>psi_x31</th>\n",
       "      <th>psi_x32</th>\n",
       "      <th>psi_x33</th>\n",
       "    </tr>\n",
       "  </thead>\n",
       "  <tbody>\n",
       "    <tr>\n",
       "      <td>0</td>\n",
       "      <td>-2.421083e+13</td>\n",
       "      <td>2.726118e+12</td>\n",
       "      <td>-2.388841e+13</td>\n",
       "      <td>-1.149321e+13</td>\n",
       "      <td>4.337686e+13</td>\n",
       "      <td>8.511447e+12</td>\n",
       "      <td>4.978021e+12</td>\n",
       "    </tr>\n",
       "    <tr>\n",
       "      <td>1</td>\n",
       "      <td>-2.338860e+13</td>\n",
       "      <td>-1.835807e+13</td>\n",
       "      <td>-6.285969e+12</td>\n",
       "      <td>-3.402406e+13</td>\n",
       "      <td>3.787036e+13</td>\n",
       "      <td>3.488566e+13</td>\n",
       "      <td>9.300675e+12</td>\n",
       "    </tr>\n",
       "    <tr>\n",
       "      <td>2</td>\n",
       "      <td>-1.562271e+13</td>\n",
       "      <td>-3.161325e+13</td>\n",
       "      <td>9.873849e+12</td>\n",
       "      <td>-5.184893e+13</td>\n",
       "      <td>2.613942e+13</td>\n",
       "      <td>5.236065e+13</td>\n",
       "      <td>1.071097e+13</td>\n",
       "    </tr>\n",
       "    <tr>\n",
       "      <td>3</td>\n",
       "      <td>-3.869056e+12</td>\n",
       "      <td>-3.686182e+13</td>\n",
       "      <td>2.351699e+13</td>\n",
       "      <td>-5.707237e+13</td>\n",
       "      <td>1.227488e+13</td>\n",
       "      <td>5.425102e+13</td>\n",
       "      <td>7.760360e+12</td>\n",
       "    </tr>\n",
       "    <tr>\n",
       "      <td>4</td>\n",
       "      <td>8.916487e+12</td>\n",
       "      <td>-3.392619e+13</td>\n",
       "      <td>3.356938e+13</td>\n",
       "      <td>-4.179896e+13</td>\n",
       "      <td>3.675699e+11</td>\n",
       "      <td>3.387139e+13</td>\n",
       "      <td>-9.996764e+11</td>\n",
       "    </tr>\n",
       "  </tbody>\n",
       "</table>\n",
       "</div>"
      ],
      "text/plain": [
       "        psi_x11       psi_x12       psi_x21       psi_x22       psi_x31  \\\n",
       "0 -2.421083e+13  2.726118e+12 -2.388841e+13 -1.149321e+13  4.337686e+13   \n",
       "1 -2.338860e+13 -1.835807e+13 -6.285969e+12 -3.402406e+13  3.787036e+13   \n",
       "2 -1.562271e+13 -3.161325e+13  9.873849e+12 -5.184893e+13  2.613942e+13   \n",
       "3 -3.869056e+12 -3.686182e+13  2.351699e+13 -5.707237e+13  1.227488e+13   \n",
       "4  8.916487e+12 -3.392619e+13  3.356938e+13 -4.179896e+13  3.675699e+11   \n",
       "\n",
       "        psi_x32       psi_x33  \n",
       "0  8.511447e+12  4.978021e+12  \n",
       "1  3.488566e+13  9.300675e+12  \n",
       "2  5.236065e+13  1.071097e+13  \n",
       "3  5.425102e+13  7.760360e+12  \n",
       "4  3.387139e+13 -9.996764e+11  "
      ]
     },
     "execution_count": 48,
     "metadata": {},
     "output_type": "execute_result"
    }
   ],
   "source": [
    "df_psi = pd.DataFrame()\n",
    "j = 0\n",
    "for i in range(1, n1+1):\n",
    "    init = temp[f'T_{0}(x1{i}']\n",
    "    for p in range(1, p1+1):\n",
    "        init = init.add(temp[f'T_{p}(x1{i}'])\n",
    "    df_psi.insert(j, f'psi_x1{i}', init)\n",
    "    j+=1\n",
    "\n",
    "for i in range(1, n2+1):\n",
    "    init = temp[f'T_{0}(x2{i}']\n",
    "    for p in range(1, p2+1):\n",
    "        init = init.add(temp[f'T_{p}(x2{i}'])\n",
    "    df_psi.insert(j, f'psi_x2{i}', init)\n",
    "    j+=1\n",
    "\n",
    "for i in range(1, n3+1):\n",
    "    init = temp[f'T_{0}(x3{i}']\n",
    "    for p in range(1, p3+1):\n",
    "        init = init.add(temp[f'T_{p}(x3{i}'])\n",
    "    df_psi.insert(j, f'psi_x3{i}', init)\n",
    "    j+=1\n",
    "df_psi.head()"
   ]
  },
  {
   "cell_type": "code",
   "execution_count": 49,
   "metadata": {},
   "outputs": [
    {
     "name": "stdout",
     "output_type": "stream",
     "text": [
      "a_1 \n",
      "[[-1.93639155e-15 -3.39078578e-15]\n",
      " [-8.23607500e-18 -1.22508319e-15]\n",
      " [ 5.57618171e-15 -2.58126270e-15]\n",
      " [ 4.47379930e-15 -3.96256758e-15]]\n",
      "\n",
      "a_2 \n",
      "[[ 2.32009092e-15 -3.62445445e-15]\n",
      " [ 6.09088435e-16 -1.16209634e-15]\n",
      " [ 2.79925284e-15 -9.07337987e-16]\n",
      " [ 3.59046078e-15 -2.73413319e-15]]\n",
      "\n",
      "a_3 \n",
      "[[ 4.88469393e-15  6.30145336e-15 -3.49801605e-14]\n",
      " [ 1.00159445e-17  2.13452124e-15 -5.85336016e-15]\n",
      " [ 4.39715702e-15  1.15009463e-14 -7.29920975e-14]\n",
      " [ 3.00638465e-15  1.11358165e-14 -5.92563987e-14]]\n"
     ]
    },
    {
     "name": "stderr",
     "output_type": "stream",
     "text": [
      "C:\\ProgramData\\Anaconda3\\lib\\site-packages\\ipykernel_launcher.py:2: FutureWarning: `rcond` parameter will change to the default of machine precision times ``max(M, N)`` where M and N are the input matrix dimensions.\n",
      "To use the future default and silence this warning we advise to pass `rcond=None`, to keep using the old, explicitly pass `rcond=-1`.\n",
      "  \n",
      "C:\\ProgramData\\Anaconda3\\lib\\site-packages\\ipykernel_launcher.py:5: FutureWarning: `rcond` parameter will change to the default of machine precision times ``max(M, N)`` where M and N are the input matrix dimensions.\n",
      "To use the future default and silence this warning we advise to pass `rcond=None`, to keep using the old, explicitly pass `rcond=-1`.\n",
      "  \"\"\"\n",
      "C:\\ProgramData\\Anaconda3\\lib\\site-packages\\ipykernel_launcher.py:8: FutureWarning: `rcond` parameter will change to the default of machine precision times ``max(M, N)`` where M and N are the input matrix dimensions.\n",
      "To use the future default and silence this warning we advise to pass `rcond=None`, to keep using the old, explicitly pass `rcond=-1`.\n",
      "  \n"
     ]
    }
   ],
   "source": [
    "psi_1n = [f'psi_x1{i}' for i in range(1, n1+1)]\n",
    "a1, res, r, s = np.linalg.lstsq(df_psi[psi_1n], y)\n",
    "a1 = a1.T\n",
    "psi_2n = [f'psi_x2{i}' for i in range(1, n2+1)]\n",
    "a2, res, r, s = np.linalg.lstsq(df_psi[psi_2n], y)\n",
    "a2 = a2.T\n",
    "psi_3n = [f'psi_x3{i}' for i in range(1, n3+1)]\n",
    "a3, res, r, s = np.linalg.lstsq(df_psi[psi_3n], y)\n",
    "a3 = a3.T\n",
    "\n",
    "print(f\"a_1 \\n{a1}\\n\")\n",
    "print(f\"a_2 \\n{a2}\\n\")\n",
    "print(f\"a_3 \\n{a3}\")"
   ]
  },
  {
   "cell_type": "code",
   "execution_count": 50,
   "metadata": {},
   "outputs": [
    {
     "data": {
      "text/html": [
       "<div>\n",
       "<style scoped>\n",
       "    .dataframe tbody tr th:only-of-type {\n",
       "        vertical-align: middle;\n",
       "    }\n",
       "\n",
       "    .dataframe tbody tr th {\n",
       "        vertical-align: top;\n",
       "    }\n",
       "\n",
       "    .dataframe thead th {\n",
       "        text-align: right;\n",
       "    }\n",
       "</style>\n",
       "<table border=\"1\" class=\"dataframe\">\n",
       "  <thead>\n",
       "    <tr style=\"text-align: right;\">\n",
       "      <th></th>\n",
       "      <th>psi_x11</th>\n",
       "      <th>psi_x12</th>\n",
       "    </tr>\n",
       "  </thead>\n",
       "  <tbody>\n",
       "    <tr>\n",
       "      <td>0</td>\n",
       "      <td>-2.421083e+13</td>\n",
       "      <td>2.726118e+12</td>\n",
       "    </tr>\n",
       "    <tr>\n",
       "      <td>1</td>\n",
       "      <td>-2.338860e+13</td>\n",
       "      <td>-1.835807e+13</td>\n",
       "    </tr>\n",
       "    <tr>\n",
       "      <td>2</td>\n",
       "      <td>-1.562271e+13</td>\n",
       "      <td>-3.161325e+13</td>\n",
       "    </tr>\n",
       "    <tr>\n",
       "      <td>3</td>\n",
       "      <td>-3.869056e+12</td>\n",
       "      <td>-3.686182e+13</td>\n",
       "    </tr>\n",
       "    <tr>\n",
       "      <td>4</td>\n",
       "      <td>8.916487e+12</td>\n",
       "      <td>-3.392619e+13</td>\n",
       "    </tr>\n",
       "  </tbody>\n",
       "</table>\n",
       "</div>"
      ],
      "text/plain": [
       "        psi_x11       psi_x12\n",
       "0 -2.421083e+13  2.726118e+12\n",
       "1 -2.338860e+13 -1.835807e+13\n",
       "2 -1.562271e+13 -3.161325e+13\n",
       "3 -3.869056e+12 -3.686182e+13\n",
       "4  8.916487e+12 -3.392619e+13"
      ]
     },
     "execution_count": 50,
     "metadata": {},
     "output_type": "execute_result"
    }
   ],
   "source": [
    "df_psi1 = df_psi[psi_1n].copy()\n",
    "df_psi2 = df_psi[psi_2n].copy()\n",
    "df_psi3 = df_psi[psi_3n].copy()\n",
    "\n",
    "df_psi1.head()"
   ]
  },
  {
   "cell_type": "code",
   "execution_count": 51,
   "metadata": {},
   "outputs": [],
   "source": [
    "f1 = (df_psi1 * a1[0]).sum(axis=1)\n",
    "f2 = (df_psi2 * a2[1]).sum(axis=1)\n",
    "f3 = (df_psi3 * a3[2]).sum(axis=1)\n",
    "df_f = pd.DataFrame()\n",
    "df_f.insert(0, 'f1', f1)\n",
    "df_f.insert(1, 'f2', f2)\n",
    "df_f.insert(2, 'f3', f3)"
   ]
  },
  {
   "cell_type": "code",
   "execution_count": 52,
   "metadata": {},
   "outputs": [
    {
     "name": "stdout",
     "output_type": "stream",
     "text": [
      "Matrix C:\n",
      "[[-0.15466974  0.83897921  0.4286599 ]\n",
      " [-0.46257756  0.76895154  0.61605473]\n",
      " [-0.20435446  0.12179931  1.04236155]\n",
      " [-0.27459     0.60307815  0.75449241]]\n",
      "\n",
      "Ф1(x1,x2,x3) = exp{(-0.1546697416940388)*ln(1+Ф11(x1)) + (0.8389792086698625)*ln(1+Ф12(x2)) + (0.42865990261251247)*ln(1+Ф13(x3))}\n",
      "Ф2(x1,x2,x3) = exp{(-0.4625775624248519)*ln(1+Ф21(x1)) + (0.7689515445760858)*ln(1+Ф22(x2)) + (0.6160547275487607)*ln(1+Ф23(x3))}\n",
      "Ф3(x1,x2,x3) = exp{(-0.20435446327123702)*ln(1+Ф31(x1)) + (0.12179931319145693)*ln(1+Ф32(x2)) + (1.0423615478199804)*ln(1+Ф33(x3))}\n",
      "Ф4(x1,x2,x3) = exp{(-0.2745899970169465)*ln(1+Ф41(x1)) + (0.6030781471013267)*ln(1+Ф42(x2)) + (0.7544924086647117)*ln(1+Ф43(x3))}\n"
     ]
    },
    {
     "name": "stderr",
     "output_type": "stream",
     "text": [
      "C:\\ProgramData\\Anaconda3\\lib\\site-packages\\ipykernel_launcher.py:6: FutureWarning: `rcond` parameter will change to the default of machine precision times ``max(M, N)`` where M and N are the input matrix dimensions.\n",
      "To use the future default and silence this warning we advise to pass `rcond=None`, to keep using the old, explicitly pass `rcond=-1`.\n",
      "  \n"
     ]
    }
   ],
   "source": [
    "def calc_dfc(a1, a2, a3, df_psi1, df_psi2, df_psi3, y, index):\n",
    "    res = pd.DataFrame()\n",
    "    res.insert(0, 'f1i', (df_psi1 * a1[index]).sum(axis=1))\n",
    "    res.insert(1, 'f2i', (df_psi2 * a2[index]).sum(axis=1))\n",
    "    res.insert(2, 'f3i', (df_psi3 * a3[index]).sum(axis=1))\n",
    "    x, res, r, s = np.linalg.lstsq(res, y[f'y{index+1}'])\n",
    "    return x\n",
    "\n",
    "arr = np.array([calc_dfc(a1, a2, a3, df_psi1, df_psi2, df_psi3, y, index) for index in range(4)])\n",
    "\n",
    "print(f\"Matrix C:\\n{arr}\\n\")\n",
    "\n",
    "for i in range(len(arr)):\n",
    "    s = f\"Ф{i+1}(x1,x2,x3) = exp{{\"\n",
    "    for j in range(len(arr[i])):\n",
    "        s += f\"({arr[i, j]})*ln(1+Ф{i+1}{j+1}(x{j+1}))\"\n",
    "        if(j != len(arr[i]) - 1):\n",
    "            s+= \" + \"\n",
    "    s+=\"}\"\n",
    "    print(s)"
   ]
  },
  {
   "cell_type": "code",
   "execution_count": 53,
   "metadata": {},
   "outputs": [
    {
     "data": {
      "image/png": "[encoded data removed]",
      "text/plain": [
       "<Figure size 432x288 with 1 Axes>"
      ]
     },
     "metadata": {
      "needs_background": "light"
     },
     "output_type": "display_data"
    },
    {
     "name": "stdout",
     "output_type": "stream",
     "text": [
      "Max_error_Y1 = 1.023482983946815\n"
     ]
    }
   ],
   "source": [
    "t = pd.DataFrame({f'{i}': (df_f * arr[i]).sum(axis=1) for i in range(4)})\n",
    "t['0'].plot.line(label='Sample')\n",
    "y['y1'].plot.line(label='Approximated')\n",
    "plt.legend(loc='upper left')\n",
    "plt.show()\n",
    "\n",
    "r = (t['0'] - y['y1']).apply(abs)\n",
    "print(f\"Max_error_Y1 = {r.max()}\")"
   ]
  },
  {
   "cell_type": "code",
   "execution_count": 54,
   "metadata": {},
   "outputs": [
    {
     "data": {
      "image/png": "[encoded data removed]",
      "text/plain": [
       "<Figure size 432x288 with 1 Axes>"
      ]
     },
     "metadata": {
      "needs_background": "light"
     },
     "output_type": "display_data"
    },
    {
     "name": "stdout",
     "output_type": "stream",
     "text": [
      "Max_error_Y2 = 0.9305992153483174\n"
     ]
    }
   ],
   "source": [
    "t['1'].plot.line(label='Sample')\n",
    "y['y2'].plot.line(label='Approximated')\n",
    "plt.legend(loc='upper left')\n",
    "plt.show()\n",
    "\n",
    "r = (t['1'] - y['y2']).apply(abs)\n",
    "print(f\"Max_error_Y2 = {r.max()}\")"
   ]
  },
  {
   "cell_type": "code",
   "execution_count": 55,
   "metadata": {},
   "outputs": [
    {
     "data": {
      "image/png": "[encoded data removed]",
      "text/plain": [
       "<Figure size 432x288 with 1 Axes>"
      ]
     },
     "metadata": {
      "needs_background": "light"
     },
     "output_type": "display_data"
    },
    {
     "name": "stdout",
     "output_type": "stream",
     "text": [
      "Max_error_Y3 = 0.5277738175728851\n"
     ]
    }
   ],
   "source": [
    "t['2'].plot.line(label='Sample')\n",
    "y['y3'].plot.line(label='Approximated')\n",
    "plt.legend(loc='upper left')\n",
    "plt.show()\n",
    "\n",
    "r = (t['2'] - y['y3']).apply(abs)\n",
    "print(f\"Max_error_Y3 = {r.max()}\")"
   ]
  },
  {
   "cell_type": "code",
   "execution_count": 56,
   "metadata": {},
   "outputs": [
    {
     "data": {
      "image/png": "[encoded data removed]",
      "text/plain": [
       "<Figure size 432x288 with 1 Axes>"
      ]
     },
     "metadata": {
      "needs_background": "light"
     },
     "output_type": "display_data"
    },
    {
     "name": "stdout",
     "output_type": "stream",
     "text": [
      "Max_error_Y4 = 1.0465770220473924\n"
     ]
    }
   ],
   "source": [
    "t['3'].plot.line(label='Sample')\n",
    "y['y4'].plot.line(label='Approximated')\n",
    "plt.legend(loc='upper left')\n",
    "plt.show()\n",
    "\n",
    "r = (t['3'] - y['y4']).apply(abs)\n",
    "print(f\"Max_error_Y4 = {r.max()}\")"
   ]
  },
  {
   "cell_type": "code",
   "execution_count": 38,
   "metadata": {},
   "outputs": [],
   "source": [
    "x1 = norm_sample[['x11', 'x12']].to_numpy()\n",
    "x2 = norm_sample[['x21', 'x22']].to_numpy()\n",
    "x3 = norm_sample[['x31', 'x32', 'x33']].to_numpy()"
   ]
  },
  {
   "cell_type": "code",
   "execution_count": 3,
   "metadata": {},
   "outputs": [
    {
     "name": "stdout",
     "output_type": "stream",
     "text": [
      "Collecting pandas\n",
      "  Using cached https://files.pythonhosted.org/packages/74/8c/9cf2e5304f4466dbc759a799b97bfd75cd3dc93b00d49558ca93bfc29173/pandas-1.2.4-cp37-cp37m-win_amd64.whl\n",
      "Requirement already satisfied, skipping upgrade: python-dateutil>=2.7.3 in c:\\programdata\\anaconda3\\lib\\site-packages (from pandas) (2.8.0)\n",
      "Requirement already satisfied, skipping upgrade: numpy>=1.16.5 in c:\\programdata\\anaconda3\\lib\\site-packages (from pandas) (1.16.5)\n",
      "Requirement already satisfied, skipping upgrade: pytz>=2017.3 in c:\\programdata\\anaconda3\\lib\\site-packages (from pandas) (2019.3)\n",
      "Requirement already satisfied, skipping upgrade: six>=1.5 in c:\\programdata\\anaconda3\\lib\\site-packages (from python-dateutil>=2.7.3->pandas) (1.12.0)\n",
      "Installing collected packages: pandas\n",
      "  Found existing installation: pandas 0.25.1\n",
      "    Uninstalling pandas-0.25.1:\n",
      "Note: you may need to restart the kernel to use updated packages.\n"
     ]
    },
    {
     "name": "stderr",
     "output_type": "stream",
     "text": [
      "ERROR: Could not install packages due to an EnvironmentError: [WinError 5] Access is denied: 'c:\\\\programdata\\\\anaconda3\\\\lib\\\\site-packages\\\\pandas-0.25.1.dist-info\\\\entry_points.txt'\n",
      "Consider using the `--user` option or check the permissions.\n",
      "\n"
     ]
    }
   ],
   "source": [
    "# pip install pandas --upgrade"
   ]
  },
  {
   "cell_type": "code",
   "execution_count": 4,
   "metadata": {},
   "outputs": [
    {
     "name": "stdout",
     "output_type": "stream",
     "text": [
      "Requirement already up-to-date: iexfinance in c:\\programdata\\anaconda3\\lib\\site-packages (0.5.0)\n",
      "Requirement already satisfied, skipping upgrade: requests in c:\\programdata\\anaconda3\\lib\\site-packages (from iexfinance) (2.22.0)\n",
      "Requirement already satisfied, skipping upgrade: pandas in c:\\programdata\\anaconda3\\lib\\site-packages (from iexfinance) (0.25.1)\n",
      "Requirement already satisfied, skipping upgrade: chardet<3.1.0,>=3.0.2 in c:\\programdata\\anaconda3\\lib\\site-packages (from requests->iexfinance) (3.0.4)\n",
      "Requirement already satisfied, skipping upgrade: certifi>=2017.4.17 in c:\\programdata\\anaconda3\\lib\\site-packages (from requests->iexfinance) (2019.9.11)\n",
      "Requirement already satisfied, skipping upgrade: idna<2.9,>=2.5 in c:\\programdata\\anaconda3\\lib\\site-packages (from requests->iexfinance) (2.8)\n",
      "Requirement already satisfied, skipping upgrade: urllib3!=1.25.0,!=1.25.1,<1.26,>=1.21.1 in c:\\programdata\\anaconda3\\lib\\site-packages (from requests->iexfinance) (1.24.2)\n",
      "Requirement already satisfied, skipping upgrade: numpy>=1.13.3 in c:\\programdata\\anaconda3\\lib\\site-packages (from pandas->iexfinance) (1.16.5)\n",
      "Requirement already satisfied, skipping upgrade: python-dateutil>=2.6.1 in c:\\programdata\\anaconda3\\lib\\site-packages (from pandas->iexfinance) (2.8.0)\n",
      "Requirement already satisfied, skipping upgrade: pytz>=2017.2 in c:\\programdata\\anaconda3\\lib\\site-packages (from pandas->iexfinance) (2019.3)\n",
      "Requirement already satisfied, skipping upgrade: six>=1.5 in c:\\programdata\\anaconda3\\lib\\site-packages (from python-dateutil>=2.6.1->pandas->iexfinance) (1.12.0)\n",
      "Note: you may need to restart the kernel to use updated packages.\n"
     ]
    }
   ],
   "source": [
    "# pip install iexfinance --upgrade"
   ]
  },
  {
   "cell_type": "code",
   "execution_count": null,
   "metadata": {},
   "outputs": [],
   "source": []
  }
 ],
 "metadata": {
  "kernelspec": {
   "display_name": "Python 3",
   "language": "python",
   "name": "python3"
  },
  "language_info": {
   "codemirror_mode": {
    "name": "ipython",
    "version": 3
   },
   "file_extension": ".py",
   "mimetype": "text/x-python",
   "name": "python",
   "nbconvert_exporter": "python",
   "pygments_lexer": "ipython3",
   "version": "3.7.4"
  }
 },
 "nbformat": 4,
 "nbformat_minor": 2
}
