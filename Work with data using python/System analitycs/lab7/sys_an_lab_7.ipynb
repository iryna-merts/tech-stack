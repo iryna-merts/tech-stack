{
 "cells": [
  {
   "cell_type": "code",
   "execution_count": 1,
   "metadata": {},
   "outputs": [],
   "source": [
    "from pprint import pprint\n",
    "import math\n",
    "import numpy as np\n",
    "import pandas as pd\n",
    "from matplotlib import pyplot as plt"
   ]
  },
  {
   "cell_type": "code",
   "execution_count": 2,
   "metadata": {},
   "outputs": [
    {
     "name": "stdout",
     "output_type": "stream",
     "text": [
      "array([[0.6 , 0.3 , 0.2 , 0.5 , 0.  , 0.25, 0.4 ],\n",
      "       [0.  , 0.  , 0.4 , 0.3 , 0.  , 0.  , 0.3 ],\n",
      "       [0.  , 0.  , 0.7 , 0.6 , 0.4 , 0.45, 0.35],\n",
      "       [0.  , 0.  , 0.45, 0.5 , 0.3 , 0.35, 0.  ]])\n"
     ]
    }
   ],
   "source": [
    "a = np.array([[0.6, 0.3, 0.2, 0.5, 0, 0.25, 0.4],\n",
    "   [0, 0, 0.4, 0.3, 0, 0, 0.3],\n",
    "   [0, 0, 0.7, 0.6, 0.4, 0.45, 0.35],\n",
    "   [0, 0, 0.45, 0.5, 0.3, 0.35, 0]])\n",
    "pprint(a)"
   ]
  },
  {
   "cell_type": "code",
   "execution_count": 3,
   "metadata": {},
   "outputs": [
    {
     "name": "stdout",
     "output_type": "stream",
     "text": [
      "array([[0.4 , 0.5 , 0.4 , 0.4 , 0.  , 0.3 , 0.5 ],\n",
      "       [0.  , 0.  , 0.3 , 0.3 , 0.  , 0.  , 0.4 ],\n",
      "       [0.  , 0.  , 0.45, 0.5 , 0.3 , 0.4 , 0.4 ],\n",
      "       [0.  , 0.  , 0.5 , 0.4 , 0.45, 0.3 , 0.  ]])\n"
     ]
    }
   ],
   "source": [
    "ip = np.array([[0.4, 0.5, 0.4, 0.4, 0, 0.3, 0.5],\n",
    "     [0, 0, 0.3, 0.3, 0, 0, 0.4],\n",
    "     [0, 0, 0.45, 0.5, 0.3, 0.4, 0.4],\n",
    "     [0, 0, 0.5, 0.4, 0.45, 0.3, 0]])\n",
    "pprint(ip)"
   ]
  },
  {
   "cell_type": "code",
   "execution_count": 4,
   "metadata": {},
   "outputs": [
    {
     "name": "stdout",
     "output_type": "stream",
     "text": [
      "array([[0.3 , 0.4 , 0.5 , 0.4 , 0.  , 0.4 , 0.6 ],\n",
      "       [0.  , 0.  , 0.35, 0.2 , 0.  , 0.  , 0.5 ],\n",
      "       [0.  , 0.  , 0.35, 0.4 , 0.35, 0.5 , 0.5 ],\n",
      "       [0.  , 0.  , 0.35, 0.5 , 0.5 , 0.3 , 0.  ]])\n"
     ]
    }
   ],
   "source": [
    "idu = np.array([[0.3, 0.4, 0.5, 0.4, 0, 0.4, 0.6],\n",
    "       [0, 0, 0.35, 0.2, 0, 0, 0.5],\n",
    "       [0, 0, 0.35, 0.4, 0.35, 0.5, 0.5],\n",
    "       [0, 0, 0.35, 0.5, 0.5, 0.3, 0]])\n",
    "pprint(idu)"
   ]
  },
  {
   "cell_type": "code",
   "execution_count": 5,
   "metadata": {},
   "outputs": [
    {
     "name": "stdout",
     "output_type": "stream",
     "text": [
      "array([[0.7 , 0.6 , 0.4 , 0.6 , 0.  , 0.4 , 0.5 ],\n",
      "       [0.  , 0.  , 0.5 , 0.4 , 0.  , 0.  , 0.4 ],\n",
      "       [0.  , 0.  , 0.6 , 0.4 , 0.35, 0.55, 0.6 ],\n",
      "       [0.  , 0.  , 0.5 , 0.5 , 0.6 , 0.3 , 0.  ]])\n"
     ]
    }
   ],
   "source": [
    "it = np.array([[0.7, 0.6, 0.4, 0.6, 0, 0.4, 0.5],\n",
    "               [0, 0, 0.5, 0.4, 0, 0, 0.4],\n",
    "               [0, 0, 0.6, 0.4, 0.35, 0.55, 0.6],\n",
    "               [0, 0, 0.5, 0.5, 0.6, 0.3, 0]])\n",
    "pprint(it)"
   ]
  },
  {
   "cell_type": "code",
   "execution_count": 6,
   "metadata": {},
   "outputs": [],
   "source": [
    "alpha = np.zeros((4, 7))\n",
    "beta = np.zeros((4, 7))\n",
    "gamma = np.zeros((4, 7))\n",
    "for i in range(4):\n",
    "    for j in range(7):\n",
    "        if a[i, j] != 0:\n",
    "#             alpha[i, j] = np.round(0.a[i, j]*ip[i, j]*it[i, j]*idu[i, j], 4)\n",
    "#             beta[i, j] = np.round(1e-3/(a[i, j]*it[i, j]), 4)\n",
    "#             gamma[i, j] = np.round(a[i, j]**2 * idu[i, j] / it[i, j], 4)\n",
    "            \n",
    "            alpha[i, j] = np.round(0.05 * (a[i, j]**2) * ip[i, j], 4)\n",
    "            beta[i, j] = np.round(1e-2 * a[i, j] * idu[i, j], 4)\n",
    "            gamma[i, j] = np.round(0.5 * a[i, j]**(-2) * it[i, j], 4)"
   ]
  },
  {
   "cell_type": "code",
   "execution_count": 7,
   "metadata": {},
   "outputs": [
    {
     "name": "stdout",
     "output_type": "stream",
     "text": [
      "Alpha:\n",
      "array([[0.0072, 0.0022, 0.0008, 0.005 , 0.    , 0.0009, 0.004 ],\n",
      "       [0.    , 0.    , 0.0024, 0.0013, 0.    , 0.    , 0.0018],\n",
      "       [0.    , 0.    , 0.011 , 0.009 , 0.0024, 0.0041, 0.0024],\n",
      "       [0.    , 0.    , 0.0051, 0.005 , 0.002 , 0.0018, 0.    ]])\n",
      "\n",
      "Beta:\n",
      "array([[0.0018, 0.0012, 0.001 , 0.002 , 0.    , 0.001 , 0.0024],\n",
      "       [0.    , 0.    , 0.0014, 0.0006, 0.    , 0.    , 0.0015],\n",
      "       [0.    , 0.    , 0.0024, 0.0024, 0.0014, 0.0023, 0.0017],\n",
      "       [0.    , 0.    , 0.0016, 0.0025, 0.0015, 0.001 , 0.    ]])\n",
      "\n",
      "Gamma:\n",
      "array([[0.9722, 3.3333, 5.    , 1.2   , 0.    , 3.2   , 1.5625],\n",
      "       [0.    , 0.    , 1.5625, 2.2222, 0.    , 0.    , 2.2222],\n",
      "       [0.    , 0.    , 0.6122, 0.5556, 1.0937, 1.358 , 2.449 ],\n",
      "       [0.    , 0.    , 1.2346, 1.    , 3.3333, 1.2245, 0.    ]])\n"
     ]
    }
   ],
   "source": [
    "print(\"Alpha:\")\n",
    "pprint(alpha)\n",
    "print(\"\\nBeta:\")\n",
    "pprint(beta)\n",
    "print(\"\\nGamma:\")\n",
    "pprint(gamma)"
   ]
  },
  {
   "cell_type": "code",
   "execution_count": 8,
   "metadata": {},
   "outputs": [],
   "source": [
    "def ip_fun(t, i, j):\n",
    "    return np.round(10 * ip[i, j] * (1 + alpha[i, j]) * t, 4)\n",
    "\n",
    "def idu_fun(t, i, j):\n",
    "    return np.round(idu[i, j]*(1 + gamma[i, j] * t), 4)\n",
    "\n",
    "def it_fun(t, i, j):\n",
    "    return np.round(it[i, j]*(1 - beta[i, j] * (t**2)), 4)"
   ]
  },
  {
   "cell_type": "code",
   "execution_count": 9,
   "metadata": {},
   "outputs": [],
   "source": [
    "def display_plot():\n",
    "    fig, ax = plt.subplots(3, 1, figsize=(16, 8))\n",
    "    \n",
    "    graph=[]\n",
    "    x = []  \n",
    "    for i in np.arange(0,100,0.1):\n",
    "        if ip[0][0]*(1+alpha[0][0]*i)<1:\n",
    "            x.append(i)\n",
    "            graph.append(ip[0][0]*(1+alpha[0][0]*i))\n",
    "        else:\n",
    "            print(\"Іп: t =\", np.round(i, 4))\n",
    "            break\n",
    "    for i in range(8):\n",
    "        x.append(len(x)/10) \n",
    "        graph.append(1)\n",
    "    ax[0].plot(x,graph, label='Іп(t)', color='r')\n",
    "    ax[0].legend()\n",
    "    \n",
    "    x = []    \n",
    "    graph=[]\n",
    "    for i in np.arange(0,100,0.1):\n",
    "        if idu[0][0]*(1+gamma[0][0]*i)<1:\n",
    "            x.append(i)\n",
    "            graph.append(idu[0][0]*(1+gamma[0][0]*i))\n",
    "        else:\n",
    "            print(\"Ід: t =\", np.round(i, 4))\n",
    "            break\n",
    "    for i in range(20):\n",
    "        x.append(len(x)/10) \n",
    "        graph.append(1)\n",
    "    ax[1].plot(x,graph, label='Ід(t)', color='g')\n",
    "    ax[1].legend()\n",
    "    \n",
    "    x = []    \n",
    "    graph=[]\n",
    "    for i in np.arange(0,1000,0.1):\n",
    "        if it[0][0]*(1-beta[0][0]*i)>0:\n",
    "            x.append(i)\n",
    "            graph.append(it[0][0]*(1-beta[0][0]*i))\n",
    "        else:\n",
    "            print(\"Іт: t =\", np.round(i, 4))\n",
    "            break\n",
    "    x.append(len(x)/10) \n",
    "    x.append(len(x)/10) \n",
    "    graph.append(0)\n",
    "    graph.append(0)\n",
    "    x.append(len(x)/10) \n",
    "    x.append(len(x)/10) \n",
    "    graph.append(0)\n",
    "    graph.append(0)\n",
    "    x.append(len(x)/10) \n",
    "    x.append(len(x)/10) \n",
    "    graph.append(0)\n",
    "    graph.append(0)\n",
    "    x.append(len(x)/10) \n",
    "    x.append(len(x)/10) \n",
    "    graph.append(0)\n",
    "    graph.append(0)\n",
    "    x.append(len(x)/10) \n",
    "    x.append(len(x)/10) \n",
    "    graph.append(0)\n",
    "    graph.append(0)\n",
    "    ax[2].plot(x,graph, label='Іт(t)', color='b')\n",
    "    ax[2].legend()"
   ]
  },
  {
   "cell_type": "code",
   "execution_count": 10,
   "metadata": {},
   "outputs": [
    {
     "name": "stdout",
     "output_type": "stream",
     "text": [
      "Ід: t = 2.5\n",
      "Іт: t = 555.6\n"
     ]
    },
    {
     "data": {
      "image/png": "[encoded data removed]",
      "text/plain": [
       "<Figure size 1152x576 with 3 Axes>"
      ]
     },
     "metadata": {
      "needs_background": "light"
     },
     "output_type": "display_data"
    }
   ],
   "source": [
    "display_plot()"
   ]
  },
  {
   "cell_type": "code",
   "execution_count": 11,
   "metadata": {},
   "outputs": [],
   "source": [
    "def magic(t, i, j):\n",
    "    magic_number = 43.7\n",
    "    \n",
    "    def ip_fun_magic(t, i, j):\n",
    "        res = ip_fun(t, i, j)\n",
    "        if res < 1:\n",
    "            return res * magic_number\n",
    "        else:\n",
    "            return 1\n",
    "    \n",
    "    def idu_fun_magic(t, i, j):\n",
    "        res = idu_fun(t, i, j)\n",
    "        if res < 1:\n",
    "            return res * magic_number\n",
    "        else:\n",
    "            return 1\n",
    "        \n",
    "    def it_fun_magic(t, i, j):\n",
    "        res = it_fun(t, i, j)\n",
    "        if res < 1:\n",
    "            return res * magic_number\n",
    "        else:\n",
    "            return 0.5\n",
    "\n",
    "    return np.round(1 - np.log10(1 + alpha[i, j] * ip_fun_magic(t, i, j) * idu_fun_magic(t, i, j) * it_fun_magic(t, i, j)), 4)"
   ]
  },
  {
   "cell_type": "code",
   "execution_count": 12,
   "metadata": {},
   "outputs": [],
   "source": [
    "def get_segment(i, j, mu):\n",
    "    ok = list()\n",
    "    for t in np.arange(0, 50.0001, 1):\n",
    "        if magic(t, i, j) >= 0 and magic(t, i, j) <= mu:\n",
    "            ok.append(t)\n",
    "    \n",
    "    ok.sort()\n",
    "    if len(ok) > 0:\n",
    "        return (ok[0], ok[-1])\n",
    "    else:\n",
    "        return (0, 2) # also magic"
   ]
  },
  {
   "cell_type": "code",
   "execution_count": 15,
   "metadata": {},
   "outputs": [
    {
     "name": "stderr",
     "output_type": "stream",
     "text": [
      "C:\\ProgramData\\Anaconda3\\lib\\site-packages\\ipykernel_launcher.py:25: RuntimeWarning: invalid value encountered in log10\n"
     ]
    },
    {
     "data": {
      "text/html": [
       "<div>\n",
       "<style scoped>\n",
       "    .dataframe tbody tr th:only-of-type {\n",
       "        vertical-align: middle;\n",
       "    }\n",
       "\n",
       "    .dataframe tbody tr th {\n",
       "        vertical-align: top;\n",
       "    }\n",
       "\n",
       "    .dataframe thead th {\n",
       "        text-align: right;\n",
       "    }\n",
       "</style>\n",
       "<table border=\"1\" class=\"dataframe\">\n",
       "  <thead>\n",
       "    <tr style=\"text-align: right;\">\n",
       "      <th></th>\n",
       "      <th>0</th>\n",
       "      <th>1</th>\n",
       "      <th>2</th>\n",
       "      <th>3</th>\n",
       "      <th>4</th>\n",
       "      <th>5</th>\n",
       "      <th>6</th>\n",
       "    </tr>\n",
       "  </thead>\n",
       "  <tbody>\n",
       "    <tr>\n",
       "      <td>0</td>\n",
       "      <td>[1.0; 2.0]</td>\n",
       "      <td>[0; 2]</td>\n",
       "      <td>[0; 2]</td>\n",
       "      <td>[1.0; 1.0]</td>\n",
       "      <td>-</td>\n",
       "      <td>[0; 2]</td>\n",
       "      <td>[0; 2]</td>\n",
       "    </tr>\n",
       "    <tr>\n",
       "      <td>1</td>\n",
       "      <td>-</td>\n",
       "      <td>-</td>\n",
       "      <td>[1.0; 1.0]</td>\n",
       "      <td>[1.0; 1.0]</td>\n",
       "      <td>-</td>\n",
       "      <td>-</td>\n",
       "      <td>[0; 2]</td>\n",
       "    </tr>\n",
       "    <tr>\n",
       "      <td>2</td>\n",
       "      <td>-</td>\n",
       "      <td>-</td>\n",
       "      <td>[1.0; 1.0]</td>\n",
       "      <td>[1.0; 2.0]</td>\n",
       "      <td>[1.0; 1.0]</td>\n",
       "      <td>[0; 2]</td>\n",
       "      <td>[0; 2]</td>\n",
       "    </tr>\n",
       "    <tr>\n",
       "      <td>3</td>\n",
       "      <td>-</td>\n",
       "      <td>-</td>\n",
       "      <td>[1.0; 1.0]</td>\n",
       "      <td>[0; 2]</td>\n",
       "      <td>[0; 2]</td>\n",
       "      <td>[1.0; 1.0]</td>\n",
       "      <td>-</td>\n",
       "    </tr>\n",
       "  </tbody>\n",
       "</table>\n",
       "</div>"
      ],
      "text/plain": [
       "            0       1           2           3           4           5       6\n",
       "0  [1.0; 2.0]  [0; 2]      [0; 2]  [1.0; 1.0]           -      [0; 2]  [0; 2]\n",
       "1           -       -  [1.0; 1.0]  [1.0; 1.0]           -           -  [0; 2]\n",
       "2           -       -  [1.0; 1.0]  [1.0; 2.0]  [1.0; 1.0]      [0; 2]  [0; 2]\n",
       "3           -       -  [1.0; 1.0]      [0; 2]      [0; 2]  [1.0; 1.0]       -"
      ]
     },
     "execution_count": 15,
     "metadata": {},
     "output_type": "execute_result"
    }
   ],
   "source": [
    "intervals = []\n",
    "for i in range(4):\n",
    "    intervals.append([])\n",
    "    for j in range(7):\n",
    "        if a[i, j] != 0:\n",
    "            intervals[i].append(\"[{0}; {1}]\".format(*get_segment(i, j, 0.8)))\n",
    "        else:\n",
    "            intervals[i].append(\"-\")\n",
    "mat = np.matrix(intervals)\n",
    "df = pd.DataFrame(mat)\n",
    "df"
   ]
  },
  {
   "cell_type": "code",
   "execution_count": 14,
   "metadata": {},
   "outputs": [],
   "source": [
    "# pip install pandas --upgrade"
   ]
  },
  {
   "cell_type": "code",
   "execution_count": 5,
   "metadata": {},
   "outputs": [
    {
     "name": "stdout",
     "output_type": "stream",
     "text": [
      "Requirement already up-to-date: iexfinance in c:\\programdata\\anaconda3\\lib\\site-packages (0.5.0)\n",
      "Requirement already satisfied, skipping upgrade: pandas in c:\\programdata\\anaconda3\\lib\\site-packages (from iexfinance) (0.25.1)\n",
      "Requirement already satisfied, skipping upgrade: requests in c:\\programdata\\anaconda3\\lib\\site-packages (from iexfinance) (2.22.0)\n",
      "Requirement already satisfied, skipping upgrade: python-dateutil>=2.6.1 in c:\\programdata\\anaconda3\\lib\\site-packages (from pandas->iexfinance) (2.8.0)\n",
      "Requirement already satisfied, skipping upgrade: numpy>=1.13.3 in c:\\programdata\\anaconda3\\lib\\site-packages (from pandas->iexfinance) (1.16.5)\n",
      "Requirement already satisfied, skipping upgrade: pytz>=2017.2 in c:\\programdata\\anaconda3\\lib\\site-packages (from pandas->iexfinance) (2019.3)\n",
      "Requirement already satisfied, skipping upgrade: urllib3!=1.25.0,!=1.25.1,<1.26,>=1.21.1 in c:\\programdata\\anaconda3\\lib\\site-packages (from requests->iexfinance) (1.24.2)\n",
      "Requirement already satisfied, skipping upgrade: chardet<3.1.0,>=3.0.2 in c:\\programdata\\anaconda3\\lib\\site-packages (from requests->iexfinance) (3.0.4)\n",
      "Requirement already satisfied, skipping upgrade: idna<2.9,>=2.5 in c:\\programdata\\anaconda3\\lib\\site-packages (from requests->iexfinance) (2.8)\n",
      "Requirement already satisfied, skipping upgrade: certifi>=2017.4.17 in c:\\programdata\\anaconda3\\lib\\site-packages (from requests->iexfinance) (2019.9.11)\n",
      "Requirement already satisfied, skipping upgrade: six>=1.5 in c:\\programdata\\anaconda3\\lib\\site-packages (from python-dateutil>=2.6.1->pandas->iexfinance) (1.12.0)\n",
      "Note: you may need to restart the kernel to use updated packages.\n"
     ]
    }
   ],
   "source": [
    "# pip install iexfinance --upgrade"
   ]
  },
  {
   "cell_type": "code",
   "execution_count": null,
   "metadata": {},
   "outputs": [],
   "source": []
  }
 ],
 "metadata": {
  "kernelspec": {
   "display_name": "Python 3",
   "language": "python",
   "name": "python3"
  },
  "language_info": {
   "codemirror_mode": {
    "name": "ipython",
    "version": 3
   },
   "file_extension": ".py",
   "mimetype": "text/x-python",
   "name": "python",
   "nbconvert_exporter": "python",
   "pygments_lexer": "ipython3",
   "version": "3.7.4"
  }
 },
 "nbformat": 4,
 "nbformat_minor": 2
}
